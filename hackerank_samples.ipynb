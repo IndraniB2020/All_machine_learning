{
  "nbformat": 4,
  "nbformat_minor": 0,
  "metadata": {
    "colab": {
      "provenance": [],
      "authorship_tag": "ABX9TyOqJClnYsE10hKv+MdqR2Rq",
      "include_colab_link": true
    },
    "kernelspec": {
      "name": "python3",
      "display_name": "Python 3"
    },
    "language_info": {
      "name": "python"
    }
  },
  "cells": [
    {
      "cell_type": "markdown",
      "metadata": {
        "id": "view-in-github",
        "colab_type": "text"
      },
      "source": [
        "<a href=\"https://colab.research.google.com/github/IndraniB2020/All_machine_learning/blob/main/hackerank_samples.ipynb\" target=\"_parent\"><img src=\"https://colab.research.google.com/assets/colab-badge.svg\" alt=\"Open In Colab\"/></a>"
      ]
    },
    {
      "cell_type": "code",
      "execution_count": null,
      "metadata": {
        "colab": {
          "base_uri": "https://localhost:8080/"
        },
        "id": "2Rj240z86nsb",
        "outputId": "f136826e-72fe-411b-dd36-142b33468d01"
      },
      "outputs": [
        {
          "output_type": "stream",
          "name": "stdout",
          "text": [
            "10\n",
            "Weird\n"
          ]
        }
      ],
      "source": [
        "#if-else loop\n",
        "\n",
        "import math\n",
        "import os\n",
        "import random\n",
        "import re\n",
        "import sys\n",
        "\n",
        "\n",
        "\n",
        "if __name__ == '__main__':\n",
        "    n = int(input().strip())\n",
        "    if n % 2 != 0:\n",
        "        print(\"Weird\")\n",
        "    else:\n",
        "        if n >= 2 and n <= 5:\n",
        "            print(\"Not Weird\")\n",
        "        elif n >= 6 and n <= 20:\n",
        "            print(\"Weird\")\n",
        "        elif n > 20:\n",
        "            print(\"Not Weird\")\n"
      ]
    },
    {
      "cell_type": "code",
      "source": [
        "def is_leap(year):\n",
        "    leap = False\n",
        "    if (year % 4 == 0) and (year % 100 != 0):\n",
        "        leap = True\n",
        "    elif (year % 400 == 0):\n",
        "        leap = True\n",
        "    return leap\n",
        "\n",
        "year = int(input())\n",
        "print(is_leap(year))"
      ],
      "metadata": {
        "id": "wVjeWbu-8EvL"
      },
      "execution_count": null,
      "outputs": []
    },
    {
      "cell_type": "code",
      "source": [
        "def split_and_join(line):\n",
        "    words = line.split(\" \")\n",
        "    result = \"-\".join(words)\n",
        "    return result\n",
        "if __name__ == '__main__':\n",
        "    line = input()\n",
        "    result = split_and_join(line)\n",
        "    print(result)"
      ],
      "metadata": {
        "id": "GKu6_MZZFqjh"
      },
      "execution_count": null,
      "outputs": []
    },
    {
      "cell_type": "code",
      "source": [
        "if __name__ == '__main__':\n",
        "    n = int(input())\n",
        "    integer_list = list(map(int, input().split()))\n",
        "    print(hash(tuple(integer_list)))\n"
      ],
      "metadata": {
        "id": "xfpovcKXM-UM"
      },
      "execution_count": null,
      "outputs": []
    }
  ]
}
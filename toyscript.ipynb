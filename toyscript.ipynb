{
 "cells": [
  {
   "cell_type": "markdown",
   "metadata": {
    "application/vnd.databricks.v1+cell": {
     "cellMetadata": {
      "byteLimit": 2048000,
      "rowLimit": 10000
     },
     "inputWidgets": {},
     "nuid": "41a97d74-2ff3-432c-ad40-52ca5f5a18be",
     "showTitle": false,
     "title": ""
    }
   },
   "source": [
    "## Summary of Notebook \n",
    "\n",
    "This notebook: \n",
    "- Extracts the **Weekly .xlsx** file that is downloaded into our blob storage from MOH's SAS dashboard (*sas-extracts* container in Azure Data Factory (ADF))\n",
    "- Saves the raw file in the Unity Catalog's (UC) temporal environment\n",
    "\n",
    "**Below is the location of the file in ADF's blob storage and the link to the original ETL in ADF:**"
   ]
  },
  {
   "cell_type": "markdown",
   "metadata": {
    "application/vnd.databricks.v1+cell": {
     "cellMetadata": {
      "byteLimit": 2048000,
      "rowLimit": 10000
     },
     "inputWidgets": {},
     "nuid": "725eb249-a8c1-4849-bcef-c495053971e9",
     "showTitle": false,
     "title": ""
    }
   },
   "source": [
    "#### Step 1 - Run the `helper_utils` Notebook to provide configuration values and function to create the transformed table saved in the public environment of the UC."
   ]
  },
  {
   "cell_type": "code",
   "execution_count": 0,
   "metadata": {
    "application/vnd.databricks.v1+cell": {
     "cellMetadata": {
      "byteLimit": 2048000,
      "rowLimit": 10000
     },
     "inputWidgets": {},
     "nuid": "448c68cf-6187-467d-8c8a-044531936f7c",
     "showTitle": false,
     "title": ""
    }
   },
   "outputs": [],
   "source": [
    "%run \"/Shared/Common Utilities/helper_utils\""
   ]
  },
  {
   "cell_type": "code",
   "execution_count": 0,
   "metadata": {
    "application/vnd.databricks.v1+cell": {
     "cellMetadata": {
      "byteLimit": 2048000,
      "rowLimit": 10000
     },
     "inputWidgets": {},
     "nuid": "7049f508-62f8-42f4-aa4c-3e4f115099de",
     "showTitle": false,
     "title": ""
    }
   },
   "outputs": [],
   "source": [
    "# Import the Data pretty printer - pprint library to help print data structures in\n",
    "# a readable, pretty way\n",
    "\n",
    "import pprint\n",
    "\n",
    "#  To utilize the configuration values in the helper_utils Notebook\n",
    "\n",
    "config = get_config()"
   ]
  },
  {
   "cell_type": "markdown",
   "metadata": {
    "application/vnd.databricks.v1+cell": {
     "cellMetadata": {
      "byteLimit": 2048000,
      "rowLimit": 10000
     },
     "inputWidgets": {},
     "nuid": "a8267928-8131-4417-a4cd-40698e7d40dd",
     "showTitle": false,
     "title": ""
    }
   },
   "source": [
    "#### Step 2 - Set the file location. This is the file that we are extracting from ADF blob storage.\n",
    "\n",
    "The format to set the file location is as follows:\n",
    "`wasbs//[name of container]@[location of blob storage]/[name of file]`"
   ]
  },
  {
   "cell_type": "code",
   "execution_count": 0,
   "metadata": {
    "application/vnd.databricks.v1+cell": {
     "cellMetadata": {
      "byteLimit": 2048000,
      "rowLimit": 10000
     },
     "inputWidgets": {},
     "nuid": "1880fed5-d280-483b-832f-aeed33326a94",
     "showTitle": false,
     "title": ""
    }
   },
   "outputs": [],
   "source": [
    "file_location = \"wasbs://sas-extracts@cctdash0000prd0504blob.blob.core.windows.net/Weekly .xlsx\""
   ]
  },
  {
   "cell_type": "markdown",
   "metadata": {
    "application/vnd.databricks.v1+cell": {
     "cellMetadata": {
      "byteLimit": 2048000,
      "rowLimit": 10000
     },
     "inputWidgets": {},
     "nuid": "c8e9c1bb-e589-499e-a578-224919183460",
     "showTitle": false,
     "title": ""
    }
   },
   "source": [
    "#### Step 3 - Read the data, create DataFrame & Testing\n",
    "\n",
    "In this step, a dataframe containing the contents of the file is created. This dataframe will be used to create the tables in UC.\n",
    "- `header` and `inferSchema` is set to `True`:\n",
    "  - meaning that the first row of the file are column headers\n",
    "  - the schema of the file will be determined (column names and data types)\n",
    "\n",
    "A temporary table is also created for testing purposes to make sure the rows match with the original file saved in MSSMS."
   ]
  },
  {
   "cell_type": "code",
   "execution_count": 0,
   "metadata": {
    "application/vnd.databricks.v1+cell": {
     "cellMetadata": {
      "byteLimit": 2048000,
      "rowLimit": 10000
     },
     "inputWidgets": {},
     "nuid": "96b9a86d-7cb7-447a-ab7d-978e7e7bd579",
     "showTitle": false,
     "title": ""
    }
   },
   "outputs": [],
   "source": [
    "#write explanation here\n",
    "# table_name = temp_table_source = config[\"cct_db_temp_schema\"] + \".temp_test_delme\"\n",
    "\n",
    "#any point? \n",
    "pp = pprint.PrettyPrinter(indent=4)\n",
    "\n",
    "#comes from  helper_utils.py\n",
    "moh_hosp_weekly_icu_df = spark.read.format(\"com.crealytics.spark.excel\").options(header=True,inferSchema=True).load(file_location) \n",
    "\n",
    "\n",
    "moh_hosp_weekly_icu_df.createOrReplaceTempView(\"moh_hosp_weekly_icu_df\")\n",
    "\n",
    "query = \"SELECT * from moh_hosp_weekly_icu\"\n",
    "#display(spark.sql(query))\n",
    "    \n",
    "#create_table_as_query_and_assign_perms(\"weeklyICU_mohsas_df\", query) # fn coming from  helper_utils.py => /Shared/Common Utilities/helper_utils\n",
    "    \n",
    "#spark.sql(query)"
   ]
  },
  {
   "cell_type": "code",
   "execution_count": 0,
   "metadata": {
    "application/vnd.databricks.v1+cell": {
     "cellMetadata": {
      "byteLimit": 2048000,
      "rowLimit": 10000
     },
     "inputWidgets": {},
     "nuid": "8df90d72-2a06-4193-9c60-edad2478cd29",
     "showTitle": false,
     "title": ""
    }
   },
   "outputs": [
    {
     "output_type": "stream",
     "name": "stdout",
     "output_type": "stream",
     "text": [
      "root\n |-- Week: string (nullable = true)\n |-- Available baseline beds (avg): double (nullable = true)\n |-- Adult baseline occupancy: double (nullable = true)\n |-- Vented adult baseline occupancy: double (nullable = true)\n |-- Adult baseline beds (avg): double (nullable = true)\n |-- Vented adult baseline beds (avg): double (nullable = true)\n |-- Adult baseline patients (avg): double (nullable = true)\n |-- Vented adult baseline patients (avg): double (nullable = true)\n\n"
     ]
    }
   ],
   "source": [
    "moh_hosp_weekly_icu_df.printSchema()"
   ]
  },
  {
   "cell_type": "code",
   "execution_count": 0,
   "metadata": {
    "application/vnd.databricks.v1+cell": {
     "cellMetadata": {
      "byteLimit": 2048000,
      "rowLimit": 10000
     },
     "inputWidgets": {},
     "nuid": "b1ac8aaa-5ffe-4bb6-9797-ac6951dcdf2c",
     "showTitle": false,
     "title": ""
    }
   },
   "outputs": [],
   "source": [
    "#renames columns\n",
    "\n",
    "moh_hosp_weekly_icu_df=make_col_names_safe(moh_hosp_weekly_icu_df)"
   ]
  },
  {
   "cell_type": "code",
   "execution_count": 0,
   "metadata": {
    "application/vnd.databricks.v1+cell": {
     "cellMetadata": {
      "byteLimit": 2048000,
      "rowLimit": 10000
     },
     "inputWidgets": {},
     "nuid": "2a59475a-84b4-4b35-a5eb-520c96f5d1ae",
     "showTitle": false,
     "title": ""
    }
   },
   "outputs": [
    {
     "output_type": "stream",
     "name": "stdout",
     "output_type": "stream",
     "text": [
      "development.temporal.temp_test\n"
     ]
    },
    {
     "output_type": "display_data",
     "data": {
      "text/html": [
       "<style scoped>\n",
       "  .table-result-container {\n",
       "    max-height: 300px;\n",
       "    overflow: auto;\n",
       "  }\n",
       "  table, th, td {\n",
       "    border: 1px solid black;\n",
       "    border-collapse: collapse;\n",
       "  }\n",
       "  th, td {\n",
       "    padding: 5px;\n",
       "  }\n",
       "  th {\n",
       "    text-align: left;\n",
       "  }\n",
       "</style><div class='table-result-container'><table class='table-result'><thead style='background-color: white'><tr><th>week</th><th>available_baseline_beds_avg</th><th>adult_baseline_occupancy</th><th>vented_adult_baseline_occupancy</th><th>adult_baseline_beds_avg</th><th>vented_adult_baseline_beds_avg</th><th>adult_baseline_patients_avg</th><th>vented_adult_baseline_patients_avg</th></tr></thead><tbody><tr><td>2020 Week18 May09</td><td>603.0</td><td>0.7002982107355865</td><td>0.41611610527455867</td><td>2012.0</td><td>1319.0</td><td>1409.0</td><td>548.8571428571429</td></tr><tr><td>2020 Week19 May16</td><td>580.4285714285714</td><td>0.7115166145981255</td><td>0.40755983970540455</td><td>2012.0</td><td>1319.0</td><td>1431.5714285714287</td><td>537.5714285714286</td></tr><tr><td>2020 Week20 May23</td><td>582.0</td><td>0.7107355864811133</td><td>0.3970540452723925</td><td>2012.0</td><td>1319.0</td><td>1430.0</td><td>523.7142857142857</td></tr><tr><td>2020 Week21 May30</td><td>534.8571428571429</td><td>0.7341664299914797</td><td>0.39857034549983755</td><td>2012.0</td><td>1319.0</td><td>1477.142857142857</td><td>525.7142857142857</td></tr><tr><td>2020 Week22 Jun06</td><td>541.1428571428571</td><td>0.7310423175234309</td><td>0.3977038882270118</td><td>2012.0</td><td>1319.0</td><td>1470.857142857143</td><td>524.5714285714286</td></tr><tr><td>2020 Week23 Jun13</td><td>530.7142857142857</td><td>0.7362255041181482</td><td>0.39467128777212174</td><td>2012.0</td><td>1319.0</td><td>1481.2857142857142</td><td>520.5714285714286</td></tr><tr><td>2020 Week24 Jun20</td><td>502.7142857142857</td><td>0.750142005112184</td><td>0.4047438535687209</td><td>2012.0</td><td>1319.0</td><td>1509.2857142857142</td><td>533.8571428571429</td></tr><tr><td>2020 Week25 Jun27</td><td>512.7142857142857</td><td>0.7451718261857427</td><td>0.38373226470269683</td><td>2012.0</td><td>1319.0</td><td>1499.2857142857142</td><td>506.14285714285717</td></tr><tr><td>2020 Week26 Jul04</td><td>532.2857142857143</td><td>0.735444476001136</td><td>0.34734105924401604</td><td>2012.0</td><td>1319.0</td><td>1479.7142857142858</td><td>458.14285714285717</td></tr><tr><td>2020 Week27 Jul11</td><td>472.85714285714283</td><td>0.7649815393354161</td><td>0.3542727174266219</td><td>2012.0</td><td>1319.0</td><td>1539.142857142857</td><td>467.2857142857143</td></tr><tr><td>2020 Week28 Jul18</td><td>474.42857142857144</td><td>0.7642005112184038</td><td>0.34885735947146107</td><td>2012.0</td><td>1319.0</td><td>1537.5714285714287</td><td>460.14285714285717</td></tr><tr><td>2020 Week29 Jul25</td><td>493.85714285714283</td><td>0.7545441635898892</td><td>0.3412758583342359</td><td>2012.0</td><td>1319.0</td><td>1518.142857142857</td><td>450.14285714285717</td></tr><tr><td>2020 Week30 Aug01</td><td>481.42857142857144</td><td>0.7607213859698949</td><td>0.32925376367377884</td><td>2012.0</td><td>1319.0</td><td>1530.5714285714287</td><td>434.2857142857143</td></tr><tr><td>2020 Week31 Aug08</td><td>488.85714285714283</td><td>0.7570292530531099</td><td>0.3308783710603271</td><td>2012.0</td><td>1319.0</td><td>1523.142857142857</td><td>436.42857142857144</td></tr><tr><td>2020 Week32 Aug15</td><td>487.0</td><td>0.7579522862823062</td><td>0.3370518791292104</td><td>2012.0</td><td>1319.0</td><td>1525.0</td><td>444.57142857142856</td></tr><tr><td>2020 Week33 Aug22</td><td>463.85714285714283</td><td>0.7694547003692133</td><td>0.341817394129752</td><td>2012.0</td><td>1319.0</td><td>1548.142857142857</td><td>450.85714285714283</td></tr><tr><td>2020 Week34 Aug29</td><td>439.57142857142856</td><td>0.7815251349048565</td><td>0.335318964583559</td><td>2012.0</td><td>1319.0</td><td>1572.4285714285713</td><td>442.2857142857143</td></tr><tr><td>2020 Week35 Sep05</td><td>476.7142857142857</td><td>0.7630644703209315</td><td>0.3462579876529839</td><td>2012.0</td><td>1319.0</td><td>1535.2857142857142</td><td>456.7142857142857</td></tr><tr><td>2020 Week36 Sep12</td><td>450.85714285714283</td><td>0.7759159329735871</td><td>0.3632622116321889</td><td>2012.0</td><td>1319.0</td><td>1561.142857142857</td><td>479.14285714285717</td></tr><tr><td>2020 Week37 Sep19</td><td>423.2857142857143</td><td>0.7896194262993468</td><td>0.3580634679952345</td><td>2012.0</td><td>1319.0</td><td>1588.7142857142858</td><td>472.2857142857143</td></tr><tr><td>2020 Week38 Sep26</td><td>407.7142857142857</td><td>0.7973587049133769</td><td>0.3599046896999892</td><td>2012.0</td><td>1319.0</td><td>1604.2857142857142</td><td>474.7142857142857</td></tr><tr><td>2020 Week39 Oct03</td><td>388.57142857142856</td><td>0.8068730474297074</td><td>0.36532004765515</td><td>2012.0</td><td>1319.0</td><td>1623.4285714285713</td><td>481.85714285714283</td></tr><tr><td>2020 Week40 Oct10</td><td>396.0</td><td>0.8033484676503972</td><td>0.38122563880467736</td><td>2013.7142857142858</td><td>1319.4285714285713</td><td>1617.7142857142858</td><td>503.0</td></tr><tr><td>2020 Week41 Oct17</td><td>416.7142857142857</td><td>0.793413597733711</td><td>0.38347732181425487</td><td>2017.142857142857</td><td>1322.857142857143</td><td>1600.4285714285713</td><td>507.2857142857143</td></tr><tr><td>2020 Week42 Oct24</td><td>409.0</td><td>0.8015526443474041</td><td>0.40192993496958257</td><td>2061.0</td><td>1362.0</td><td>1652.0</td><td>547.4285714285714</td></tr><tr><td>2020 Week43 Oct31</td><td>394.57142857142856</td><td>0.8085534068066819</td><td>0.41147472204740926</td><td>2061.0</td><td>1362.0</td><td>1666.4285714285713</td><td>560.4285714285714</td></tr><tr><td>2020 Week44 Nov07</td><td>400.57142857142856</td><td>0.8081423195347246</td><td>0.4080648471167658</td><td>2087.8571428571427</td><td>1392.2857142857142</td><td>1687.2857142857142</td><td>568.1428571428571</td></tr><tr><td>2020 Week45 Nov14</td><td>432.14285714285717</td><td>0.7963511512050626</td><td>0.40897730680795763</td><td>2122.0</td><td>1429.0</td><td>1689.857142857143</td><td>584.4285714285714</td></tr><tr><td>2020 Week46 Nov21</td><td>431.2857142857143</td><td>0.7972873161888135</td><td>0.4047998406691894</td><td>2127.5714285714284</td><td>1434.5714285714287</td><td>1696.2857142857142</td><td>580.7142857142857</td></tr><tr><td>2020 Week47 Nov28</td><td>439.7142857142857</td><td>0.7934644031403073</td><td>0.4145443692797453</td><td>2129.0</td><td>1436.0</td><td>1689.2857142857142</td><td>595.2857142857143</td></tr><tr><td>2020 Week48 Dec05</td><td>422.85714285714283</td><td>0.8019404483104717</td><td>0.43195384003183446</td><td>2135.0</td><td>1436.0</td><td>1712.142857142857</td><td>620.2857142857143</td></tr><tr><td>2020 Week49 Dec12</td><td>416.14285714285717</td><td>0.8051765650080257</td><td>0.4369279745324314</td><td>2136.0</td><td>1436.0</td><td>1719.857142857143</td><td>627.4285714285714</td></tr><tr><td>2020 Week50 Dec19</td><td>395.0</td><td>0.8150749063670412</td><td>0.45274572224432946</td><td>2136.0</td><td>1436.0</td><td>1741.0</td><td>650.1428571428571</td></tr><tr><td>2020 Week51 Dec26</td><td>499.14285714285717</td><td>0.766318887105404</td><td>0.4346398726621568</td><td>2136.0</td><td>1436.0</td><td>1636.857142857143</td><td>624.1428571428571</td></tr><tr><td>2020 Week52 Jan02 2021</td><td>468.7142857142857</td><td>0.7805644729802034</td><td>0.4616991643454039</td><td>2136.0</td><td>1436.0</td><td>1667.2857142857142</td><td>663.0</td></tr><tr><td>2021 Week01 Jan09</td><td>391.2857142857143</td><td>0.8168138041733547</td><td>0.4953243135694389</td><td>2136.0</td><td>1436.0</td><td>1744.7142857142858</td><td>711.2857142857143</td></tr><tr><td>2021 Week02 Jan16</td><td>344.14285714285717</td><td>0.838884430176565</td><td>0.5240226797970755</td><td>2136.0</td><td>1436.142857142857</td><td>1791.857142857143</td><td>752.5714285714286</td></tr><tr><td>2021 Week03 Jan23</td><td>372.14285714285717</td><td>0.8267491354083533</td><td>0.5415549597855228</td><td>2148.0</td><td>1438.7142857142858</td><td>1775.857142857143</td><td>779.1428571428571</td></tr><tr><td>2021 Week04 Jan30</td><td>401.2857142857143</td><td>0.8133554817275748</td><td>0.4975677553856845</td><td>2150.0</td><td>1439.0</td><td>1748.7142857142858</td><td>716.0</td></tr><tr><td>2021 Week05 Feb06</td><td>516.0</td><td>0.7743064233941515</td><td>0.4624133148404993</td><td>2286.285714285714</td><td>1545.0</td><td>1770.2857142857142</td><td>714.4285714285714</td></tr><tr><td>2021 Week06 Feb13</td><td>627.5714285714286</td><td>0.7397666015046502</td><td>0.4228129615150725</td><td>2411.5714285714284</td><td>1644.4285714285713</td><td>1784.0</td><td>695.2857142857143</td></tr><tr><td>2021 Week07 Feb20</td><td>589.4285714285714</td><td>0.7494686987673811</td><td>0.4283667621776504</td><td>2352.714285714286</td><td>1595.4285714285713</td><td>1763.2857142857142</td><td>683.4285714285714</td></tr><tr><td>2021 Week08 Feb27</td><td>484.7142857142857</td><td>0.7869387755102041</td><td>0.4450764640059679</td><td>2275.0</td><td>1532.0</td><td>1790.2857142857142</td><td>681.8571428571429</td></tr><tr><td>2021 Week09 Mar06</td><td>502.57142857142856</td><td>0.7794633901705116</td><td>0.4487024462840666</td><td>2278.8571428571427</td><td>1535.857142857143</td><td>1776.2857142857142</td><td>689.1428571428571</td></tr><tr><td>2021 Week10 Mar13</td><td>534.4285714285714</td><td>0.7674086048246704</td><td>0.42951602534668015</td><td>2297.714285714286</td><td>1555.5714285714287</td><td>1763.2857142857142</td><td>668.1428571428571</td></tr><tr><td>2021 Week11 Mar20</td><td>550.5714285714286</td><td>0.7624360475867595</td><td>0.42787330316742084</td><td>2317.5714285714284</td><td>1578.5714285714287</td><td>1767.0</td><td>675.4285714285714</td></tr><tr><td>2021 Week12 Mar27</td><td>523.4285714285714</td><td>0.7742869463438674</td><td>0.4166365280289331</td><td>2319.0</td><td>1580.0</td><td>1795.5714285714287</td><td>658.2857142857143</td></tr><tr><td>2021 Week13 Apr03</td><td>514.5714285714286</td><td>0.778352101409144</td><td>0.45027124773960214</td><td>2321.5714285714284</td><td>1580.0</td><td>1807.0</td><td>711.4285714285714</td></tr><tr><td>2021 Week14 Apr10</td><td>479.0</td><td>0.7931523750771129</td><td>0.4956798544793088</td><td>2315.714285714286</td><td>1570.7142857142858</td><td>1836.7142857142858</td><td>778.5714285714286</td></tr><tr><td>2021 Week15 Apr17</td><td>412.7142857142857</td><td>0.8206369901285155</td><td>0.5709695189129637</td><td>2301.0</td><td>1556.0</td><td>1888.2857142857142</td><td>888.4285714285714</td></tr><tr><td>2021 Week16 Apr24</td><td>405.42857142857144</td><td>0.8252678241595862</td><td>0.6103008204193254</td><td>2320.285714285714</td><td>1567.142857142857</td><td>1914.857142857143</td><td>956.4285714285714</td></tr><tr><td>2021 Week17 May01</td><td>437.42857142857144</td><td>0.8156088160905697</td><td>0.6066796944395096</td><td>2372.285714285714</td><td>1608.2857142857142</td><td>1934.857142857143</td><td>975.7142857142857</td></tr><tr><td>2021 Week18 May08</td><td>594.4285714285714</td><td>0.7672558451728382</td><td>0.5407821229050279</td><td>2554.0</td><td>1790.0</td><td>1959.5714285714287</td><td>968.0</td></tr><tr><td>2021 Week19 May15</td><td>615.8571428571429</td><td>0.7588656449267256</td><td>0.5268156424581005</td><td>2554.0</td><td>1790.0</td><td>1938.142857142857</td><td>943.0</td></tr><tr><td>2021 Week20 May22</td><td>598.0</td><td>0.7658574784651527</td><td>0.5228252194732642</td><td>2554.0</td><td>1790.0</td><td>1956.0</td><td>935.8571428571429</td></tr><tr><td>2021 Week21 May29</td><td>638.4285714285714</td><td>0.7500279673341537</td><td>0.49848363926576217</td><td>2554.0</td><td>1790.0</td><td>1915.5714285714287</td><td>892.2857142857143</td></tr><tr><td>2021 Week22 Jun05</td><td>699.8571428571429</td><td>0.7259760599619645</td><td>0.4485235434956105</td><td>2554.0</td><td>1790.0</td><td>1854.142857142857</td><td>802.8571428571429</td></tr><tr><td>2021 Week23 Jun12</td><td>783.1428571428571</td><td>0.6933661483387403</td><td>0.4096568236233041</td><td>2554.0</td><td>1790.0</td><td>1770.857142857143</td><td>733.2857142857143</td></tr><tr><td>2021 Week24 Jun19</td><td>866.7142857142857</td><td>0.6606443673789014</td><td>0.35171588188347963</td><td>2554.0</td><td>1790.0</td><td>1687.2857142857142</td><td>629.5714285714286</td></tr><tr><td>2021 Week25 Jun26</td><td>896.0</td><td>0.6491777603758809</td><td>0.3289704708699122</td><td>2554.0</td><td>1790.0</td><td>1658.0</td><td>588.8571428571429</td></tr><tr><td>2021 Week26 Jul03</td><td>904.8571428571429</td><td>0.6457098109408211</td><td>0.33423782920989625</td><td>2554.0</td><td>1790.0</td><td>1649.142857142857</td><td>598.2857142857143</td></tr><tr><td>2021 Week27 Jul10</td><td>909.0</td><td>0.644087705559906</td><td>0.3284118116520351</td><td>2554.0</td><td>1790.0</td><td>1645.0</td><td>587.8571428571429</td></tr><tr><td>2021 Week28 Jul17</td><td>925.5714285714286</td><td>0.6375992840362457</td><td>0.3043096568236233</td><td>2554.0</td><td>1790.0</td><td>1628.4285714285713</td><td>544.7142857142857</td></tr><tr><td>2021 Week29 Jul24</td><td>954.1428571428571</td><td>0.6264123503747623</td><td>0.302633679169992</td><td>2554.0</td><td>1790.0</td><td>1599.857142857143</td><td>541.7142857142857</td></tr><tr><td>2021 Week30 Jul31</td><td>809.4285714285714</td><td>0.6636590288495785</td><td>0.33629616845012084</td><td>2406.5714285714284</td><td>1655.4285714285713</td><td>1597.142857142857</td><td>556.7142857142857</td></tr><tr><td>2021 Week31 Aug07</td><td>784.8571428571429</td><td>0.6705049778097637</td><td>0.3403901670894935</td><td>2382.0</td><td>1633.0</td><td>1597.142857142857</td><td>555.8571428571429</td></tr><tr><td>2021 Week32 Aug14</td><td>779.2857142857143</td><td>0.6728439486625885</td><td>0.3520251946461377</td><td>2382.0</td><td>1633.0</td><td>1602.7142857142858</td><td>574.8571428571429</td></tr><tr><td>2021 Week33 Aug21</td><td>768.1428571428571</td><td>0.677521890368238</td><td>0.35158778759513604</td><td>2382.0</td><td>1633.0</td><td>1613.857142857143</td><td>574.1428571428571</td></tr><tr><td>2021 Week34 Aug28</td><td>745.0</td><td>0.6872376154492024</td><td>0.34940075234012774</td><td>2382.0</td><td>1633.0</td><td>1637.0</td><td>570.5714285714286</td></tr><tr><td>2021 Week35 Sep04</td><td>748.1428571428571</td><td>0.6859181959937627</td><td>0.34948823375032806</td><td>2382.0</td><td>1633.0</td><td>1633.857142857143</td><td>570.7142857142857</td></tr><tr><td>2021 Week36 Sep11</td><td>685.0</td><td>0.7124265323257767</td><td>0.3772198407838334</td><td>2382.0</td><td>1633.0</td><td>1697.0</td><td>616.0</td></tr><tr><td>2021 Week37 Sep18</td><td>671.2857142857143</td><td>0.7181839990404222</td><td>0.38001924591024405</td><td>2382.0</td><td>1633.0</td><td>1710.7142857142858</td><td>620.5714285714286</td></tr><tr><td>2021 Week38 Sep25</td><td>679.5714285714286</td><td>0.712011139363119</td><td>0.37742535660494375</td><td>2359.714285714286</td><td>1612.4285714285713</td><td>1680.142857142857</td><td>608.5714285714286</td></tr><tr><td>2021 Week39 Oct02</td><td>662.2857142857143</td><td>0.7188940092165899</td><td>0.38382313770753795</td><td>2356.0</td><td>1609.0</td><td>1693.7142857142858</td><td>617.5714285714286</td></tr><tr><td>2021 Week40 Oct09</td><td>614.5714285714286</td><td>0.7391462527285957</td><td>0.39314569830418183</td><td>2356.0</td><td>1609.0</td><td>1741.4285714285713</td><td>632.5714285714286</td></tr><tr><td>2021 Week41 Oct16</td><td>623.7142857142857</td><td>0.7352655833131215</td><td>0.390393323270887</td><td>2356.0</td><td>1609.0</td><td>1732.2857142857142</td><td>628.1428571428571</td></tr><tr><td>2021 Week42 Oct23</td><td>614.2857142857143</td><td>0.7380285122456439</td><td>0.38570025885923415</td><td>2344.8571428571427</td><td>1600.4285714285713</td><td>1730.5714285714287</td><td>617.2857142857143</td></tr><tr><td>2021 Week43 Oct30</td><td>614.4285714285714</td><td>0.7377598926894702</td><td>0.38434735995711605</td><td>2343.0</td><td>1599.0</td><td>1728.5714285714287</td><td>614.5714285714286</td></tr><tr><td>2021 Week44 Nov06</td><td>629.1428571428571</td><td>0.731479787817816</td><td>0.36880192977753956</td><td>2343.0</td><td>1599.0</td><td>1713.857142857143</td><td>589.7142857142857</td></tr><tr><td>2021 Week45 Nov13</td><td>618.7142857142857</td><td>0.7359307359307359</td><td>0.36469221835075494</td><td>2343.0</td><td>1599.0</td><td>1724.2857142857142</td><td>583.1428571428571</td></tr><tr><td>2021 Week46 Nov20</td><td>625.5714285714286</td><td>0.7330040851167612</td><td>0.3688912713302957</td><td>2343.0</td><td>1599.0</td><td>1717.4285714285713</td><td>589.8571428571429</td></tr><tr><td>2021 Week47 Nov27</td><td>619.1428571428571</td><td>0.7357478202548625</td><td>0.3786295005807201</td><td>2343.0</td><td>1599.0</td><td>1723.857142857143</td><td>605.4285714285714</td></tr><tr><td>2021 Week48 Dec04</td><td>623.8571428571429</td><td>0.7337357478202549</td><td>0.38506209237916555</td><td>2343.0</td><td>1599.0</td><td>1719.142857142857</td><td>615.7142857142857</td></tr><tr><td>2021 Week49 Dec11</td><td>603.5714285714286</td><td>0.7423937564782636</td><td>0.39104797641383005</td><td>2343.0</td><td>1599.0</td><td>1739.4285714285713</td><td>625.2857142857143</td></tr><tr><td>2021 Week50 Dec18</td><td>612.0</td><td>0.7387964148527529</td><td>0.38309657821852944</td><td>2343.0</td><td>1599.0</td><td>1731.0</td><td>612.5714285714286</td></tr><tr><td>2021 Week51 Dec25</td><td>689.4285714285714</td><td>0.7057496494116212</td><td>0.3883677298311445</td><td>2343.0</td><td>1599.0</td><td>1653.5714285714287</td><td>621.0</td></tr><tr><td>2021 Week52 Jan01 2022</td><td>701.5714285714286</td><td>0.7005670385952076</td><td>0.3777360850531582</td><td>2343.0</td><td>1599.0</td><td>1641.4285714285713</td><td>604.0</td></tr><tr><td>2022 Week01 Jan08</td><td>578.8571428571429</td><td>0.7529418937869642</td><td>0.41847583310997943</td><td>2343.0</td><td>1599.0</td><td>1764.142857142857</td><td>669.1428571428571</td></tr><tr><td>2022 Week02 Jan15</td><td>528.0</td><td>0.7746478873239436</td><td>0.4705619583668364</td><td>2343.0</td><td>1599.0</td><td>1815.0</td><td>752.4285714285714</td></tr><tr><td>2022 Week03 Jan22</td><td>486.14285714285717</td><td>0.7925126516675812</td><td>0.5054945054945055</td><td>2343.0</td><td>1599.0</td><td>1856.857142857143</td><td>808.2857142857143</td></tr><tr><td>2022 Week04 Jan29</td><td>471.85714285714283</td><td>0.798609840863362</td><td>0.5145180023228804</td><td>2343.0</td><td>1599.0</td><td>1871.142857142857</td><td>822.7142857142857</td></tr><tr><td>2022 Week05 Feb05</td><td>514.5714285714286</td><td>0.7803792451679775</td><td>0.4828910926471902</td><td>2343.0</td><td>1599.0</td><td>1828.4285714285713</td><td>772.1428571428571</td></tr><tr><td>2022 Week06 Feb12</td><td>540.8571428571429</td><td>0.769160417047741</td><td>0.4723487894219602</td><td>2343.0</td><td>1599.0</td><td>1802.142857142857</td><td>755.2857142857143</td></tr><tr><td>2022 Week07 Feb19</td><td>602.5714285714286</td><td>0.7428205597219681</td><td>0.4406325381935138</td><td>2343.0</td><td>1599.0</td><td>1740.4285714285713</td><td>704.5714285714286</td></tr><tr><td>2022 Week08 Feb26</td><td>636.4285714285714</td><td>0.7283702213279678</td><td>0.4099883855981417</td><td>2343.0</td><td>1599.0</td><td>1706.5714285714287</td><td>655.5714285714286</td></tr><tr><td>2022 Week09 Mar05</td><td>641.0</td><td>0.726419120785318</td><td>0.3797015992137943</td><td>2343.0</td><td>1599.0</td><td>1702.0</td><td>607.1428571428571</td></tr><tr><td>2022 Week10 Mar12</td><td>633.1428571428571</td><td>0.7297725748429974</td><td>0.39354953989100333</td><td>2343.0</td><td>1599.0</td><td>1709.857142857143</td><td>629.2857142857143</td></tr><tr><td>2022 Week11 Mar19</td><td>679.4285714285714</td><td>0.7100176818486678</td><td>0.36379880282319305</td><td>2343.0</td><td>1599.0</td><td>1663.5714285714287</td><td>581.7142857142857</td></tr><tr><td>2022 Week12 Mar26</td><td>694.7142857142857</td><td>0.7034936894091823</td><td>0.34780666487983564</td><td>2343.0</td><td>1599.0</td><td>1648.2857142857142</td><td>556.1428571428571</td></tr><tr><td>2022 Week13 Apr02</td><td>657.8571428571429</td><td>0.7192244375342967</td><td>0.3675511480389529</td><td>2343.0</td><td>1599.0</td><td>1685.142857142857</td><td>587.7142857142857</td></tr><tr><td>2022 Week14 Apr09</td><td>639.2857142857143</td><td>0.7271507834888117</td><td>0.3716608594657375</td><td>2343.0</td><td>1599.0</td><td>1703.7142857142858</td><td>594.2857142857143</td></tr><tr><td>2022 Week15 Apr16</td><td>660.5714285714286</td><td>0.7180659715870984</td><td>0.36585365853658536</td><td>2343.0</td><td>1599.0</td><td>1682.4285714285713</td><td>585.0</td></tr><tr><td>2022 Week16 Apr23</td><td>618.4285714285714</td><td>0.7360526797146515</td><td>0.3799696238720629</td><td>2343.0</td><td>1599.0</td><td>1724.5714285714287</td><td>607.5714285714286</td></tr><tr><td>2022 Week17 Apr30</td><td>635.2857142857143</td><td>0.7288579964636303</td><td>0.35915304207987137</td><td>2343.0</td><td>1599.0</td><td>1707.7142857142858</td><td>574.2857142857143</td></tr><tr><td>2022 Week18 May07</td><td>631.5714285714286</td><td>0.7304432656545332</td><td>0.36460287679799874</td><td>2343.0</td><td>1599.0</td><td>1711.4285714285713</td><td>583.0</td></tr><tr><td>2022 Week19 May14</td><td>646.0</td><td>0.7242851045667947</td><td>0.37594925399803447</td><td>2343.0</td><td>1599.0</td><td>1697.0</td><td>601.1428571428571</td></tr><tr><td>2022 Week20 May21</td><td>627.5714285714286</td><td>0.7321504786293519</td><td>0.38407933529884747</td><td>2343.0</td><td>1599.0</td><td>1715.4285714285713</td><td>614.1428571428571</td></tr><tr><td>2022 Week21 May28</td><td>630.0</td><td>0.7311139564660691</td><td>0.36576431698382916</td><td>2343.0</td><td>1599.0</td><td>1713.0</td><td>584.8571428571429</td></tr><tr><td>2022 Week22 Jun04</td><td>646.5714285714286</td><td>0.7240412169989635</td><td>0.3534351827034754</td><td>2343.0</td><td>1599.0</td><td>1696.4285714285713</td><td>565.1428571428571</td></tr><tr><td>2022 Week23 Jun11</td><td>672.7142857142857</td><td>0.7128833607706847</td><td>0.34476905208612524</td><td>2343.0</td><td>1599.0</td><td>1670.2857142857142</td><td>551.2857142857143</td></tr><tr><td>2022 Week24 Jun18</td><td>673.2857142857143</td><td>0.7126394732028535</td><td>0.3410167068703654</td><td>2343.0</td><td>1599.0</td><td>1669.7142857142858</td><td>545.2857142857143</td></tr><tr><td>2022 Week25 Jun25</td><td>705.4285714285714</td><td>0.6989207975123468</td><td>0.3450370767443938</td><td>2343.0</td><td>1599.0</td><td>1637.5714285714287</td><td>551.7142857142857</td></tr><tr><td>2022 Week26 Jul02</td><td>753.8571428571429</td><td>0.6782513261386501</td><td>0.3226123470025909</td><td>2343.0</td><td>1599.0</td><td>1589.142857142857</td><td>515.8571428571429</td></tr><tr><td>2022 Week27 Jul09</td><td>705.4285714285714</td><td>0.6989207975123468</td><td>0.3323505762530153</td><td>2343.0</td><td>1599.0</td><td>1637.5714285714287</td><td>531.4285714285714</td></tr><tr><td>2022 Week28 Jul16</td><td>690.0</td><td>0.70550576184379</td><td>0.32886625569552397</td><td>2343.0</td><td>1599.0</td><td>1653.0</td><td>525.8571428571429</td></tr><tr><td>2022 Week29 Jul23</td><td>704.8571428571429</td><td>0.699164685080178</td><td>0.32636469221835074</td><td>2343.0</td><td>1599.0</td><td>1638.142857142857</td><td>521.8571428571429</td></tr><tr><td>2022 Week30 Jul30</td><td>692.0</td><td>0.7046521553563807</td><td>0.33127847761994106</td><td>2343.0</td><td>1599.0</td><td>1651.0</td><td>529.7142857142857</td></tr><tr><td>2022 Week31 Aug06</td><td>701.1428571428571</td><td>0.700749954271081</td><td>0.33878316805146075</td><td>2343.0</td><td>1599.0</td><td>1641.857142857143</td><td>541.7142857142857</td></tr><tr><td>2022 Week32 Aug13</td><td>670.1428571428571</td><td>0.7139808548259252</td><td>0.34637720003573663</td><td>2343.0</td><td>1599.0</td><td>1672.857142857143</td><td>553.8571428571429</td></tr><tr><td>2022 Week33 Aug20</td><td>685.0</td><td>0.7076397780623133</td><td>0.3521844009648888</td><td>2343.0</td><td>1599.0</td><td>1658.0</td><td>563.1428571428571</td></tr><tr><td>2022 Week34 Aug27</td><td>691.2857142857143</td><td>0.7049570148161698</td><td>0.3425355132672206</td><td>2343.0</td><td>1599.0</td><td>1651.7142857142858</td><td>547.7142857142857</td></tr><tr><td>2022 Week35 Sep03</td><td>686.5714285714286</td><td>0.7069690872507773</td><td>0.3335120164388457</td><td>2343.0</td><td>1599.0</td><td>1656.4285714285713</td><td>533.2857142857143</td></tr><tr><td>2022 Week36 Sep10</td><td>660.2857142857143</td><td>0.718187915371014</td><td>0.34771732332707944</td><td>2343.0</td><td>1599.0</td><td>1682.7142857142858</td><td>556.0</td></tr><tr><td>2022 Week37 Sep17</td><td>656.2857142857143</td><td>0.7198951283458326</td><td>0.34798534798534797</td><td>2343.0</td><td>1599.0</td><td>1686.7142857142858</td><td>556.4285714285714</td></tr><tr><td>2022 Week38 Sep24</td><td>632.2857142857143</td><td>0.7297429321609574</td><td>0.3480361456562584</td><td>2339.5714285714284</td><td>1596.7142857142858</td><td>1707.2857142857142</td><td>555.7142857142857</td></tr><tr><td>2022 Week39 Oct01</td><td>640.5714285714286</td><td>0.7261679389312977</td><td>0.3518003052886774</td><td>2339.285714285714</td><td>1591.0</td><td>1698.7142857142858</td><td>559.7142857142857</td></tr><tr><td>2022 Week40 Oct08</td><td>592.7142857142857</td><td>0.7468114969182889</td><td>0.381700637514591</td><td>2341.0</td><td>1591.0</td><td>1748.2857142857142</td><td>607.2857142857143</td></tr><tr><td>2022 Week41 Oct15</td><td>567.8571428571429</td><td>0.7574296698602551</td><td>0.37182365089341834</td><td>2341.0</td><td>1591.0</td><td>1773.142857142857</td><td>591.5714285714286</td></tr><tr><td>2022 Week42 Oct22</td><td>572.4285714285714</td><td>0.7554769024226521</td><td>0.37038699829397503</td><td>2341.0</td><td>1591.0</td><td>1768.5714285714287</td><td>589.2857142857143</td></tr><tr><td>2022 Week43 Oct29</td><td>571.1428571428571</td><td>0.756026118264478</td><td>0.37783963365358714</td><td>2341.0</td><td>1591.0</td><td>1769.857142857143</td><td>601.1428571428571</td></tr><tr><td>2022 Week44 Nov05</td><td>566.4285714285714</td><td>0.758039909684506</td><td>0.37954565861542605</td><td>2341.0</td><td>1591.0</td><td>1774.5714285714287</td><td>603.8571428571429</td></tr><tr><td>2022 Week45 Nov12</td><td>597.8571428571429</td><td>0.7446146335509856</td><td>0.3609589656101284</td><td>2341.0</td><td>1591.0</td><td>1743.142857142857</td><td>574.2857142857143</td></tr><tr><td>2022 Week46 Nov19</td><td>609.7142857142857</td><td>0.7395496430097028</td><td>0.36455059710873666</td><td>2341.0</td><td>1591.0</td><td>1731.2857142857142</td><td>580.0</td></tr><tr><td>2022 Week47 Nov26</td><td>602.7142857142857</td><td>0.7425398181485324</td><td>0.3588039867109635</td><td>2341.0</td><td>1591.0</td><td>1738.2857142857142</td><td>570.8571428571429</td></tr><tr><td>2022 Week48 Dec03</td><td>587.0</td><td>0.7492524562152926</td><td>0.3776600520786567</td><td>2341.0</td><td>1591.0</td><td>1754.0</td><td>600.8571428571429</td></tr><tr><td>2022 Week49 Dec10</td><td>557.5714285714286</td><td>0.7618233965948618</td><td>0.3848433150758732</td><td>2341.0</td><td>1591.0</td><td>1783.4285714285713</td><td>612.2857142857143</td></tr><tr><td>2022 Week50 Dec17</td><td>598.0</td><td>0.7445536095685604</td><td>0.3698482535691838</td><td>2341.0</td><td>1591.0</td><td>1743.0</td><td>588.4285714285714</td></tr><tr><td>2022 Week51 Dec24</td><td>646.0</td><td>0.7240495514737292</td><td>0.3594325222232199</td><td>2341.0</td><td>1591.0</td><td>1695.0</td><td>571.8571428571429</td></tr><tr><td>2022 Week52 Dec31</td><td>667.8571428571429</td><td>0.7147128821626899</td><td>0.35144114213881655</td><td>2341.0</td><td>1591.0</td><td>1673.142857142857</td><td>559.1428571428571</td></tr><tr><td>2023 Week01 Jan07</td><td>580.1428571428571</td><td>0.752181607371697</td><td>0.3787375415282392</td><td>2341.0</td><td>1591.0</td><td>1760.857142857143</td><td>602.5714285714286</td></tr><tr><td>2023 Week02 Jan14</td><td>528.7142857142857</td><td>0.7741502410447306</td><td>0.3599712669480111</td><td>2341.0</td><td>1591.0</td><td>1812.2857142857142</td><td>572.7142857142857</td></tr><tr><td>2023 Week03 Jan21</td><td>577.7142857142857</td><td>0.7532190150729237</td><td>0.3435395528418784</td><td>2341.0</td><td>1591.0</td><td>1763.2857142857142</td><td>546.5714285714286</td></tr><tr><td>2023 Week04 Jan28</td><td>597.1428571428571</td><td>0.744919753463111</td><td>0.33958875819340933</td><td>2341.0</td><td>1591.0</td><td>1743.857142857143</td><td>540.2857142857143</td></tr><tr><td>2023 Week05 Feb04</td><td>620.1428571428571</td><td>0.735094892292671</td><td>0.32558139534883723</td><td>2341.0</td><td>1591.0</td><td>1720.857142857143</td><td>518.0</td></tr><tr><td>2023 Week06 Feb11</td><td>599.5714285714286</td><td>0.7438823457618844</td><td>0.34650264882823023</td><td>2341.0</td><td>1591.0</td><td>1741.4285714285713</td><td>551.2857142857143</td></tr><tr><td>2023 Week07 Feb18</td><td>598.1428571428571</td><td>0.7444925855861354</td><td>0.34695160276555626</td><td>2341.0</td><td>1591.0</td><td>1742.857142857143</td><td>552.0</td></tr><tr><td>2023 Week08 Feb25</td><td>614.8571428571429</td><td>0.7373527796423994</td><td>0.33087905180928434</td><td>2341.0</td><td>1591.0</td><td>1726.142857142857</td><td>526.4285714285714</td></tr><tr><td>2023 Week09 Mar04</td><td>606.8571428571429</td><td>0.7407701226582046</td><td>0.32468348747418513</td><td>2341.0</td><td>1591.0</td><td>1734.142857142857</td><td>516.5714285714286</td></tr><tr><td>2023 Week10 Mar11</td><td>614.2857142857143</td><td>0.7375968755720999</td><td>0.321989763850229</td><td>2341.0</td><td>1591.0</td><td>1726.7142857142858</td><td>512.2857142857143</td></tr><tr><td>2023 Week11 Mar18</td><td>668.5714285714286</td><td>0.7144077622505645</td><td>0.2955912723354584</td><td>2341.0</td><td>1591.0</td><td>1672.4285714285713</td><td>470.2857142857143</td></tr><tr><td>2023 Week12 Mar25</td><td>645.1428571428571</td><td>0.7244156953682798</td><td>0.32181018227529856</td><td>2341.0</td><td>1591.0</td><td>1695.857142857143</td><td>512.0</td></tr><tr><td>2023 Week13 Apr01</td><td>646.8571428571429</td><td>0.7236834075791786</td><td>0.3104965430546826</td><td>2341.0</td><td>1591.0</td><td>1694.142857142857</td><td>494.0</td></tr><tr><td>2023 Week14 Apr08</td><td>648.1428571428571</td><td>0.7231341917373528</td><td>0.3236957888120679</td><td>2341.0</td><td>1591.0</td><td>1692.857142857143</td><td>515.0</td></tr><tr><td>2023 Week15 Apr15</td><td>596.8571428571429</td><td>0.7450418014279612</td><td>0.34371913441680885</td><td>2341.0</td><td>1591.0</td><td>1744.142857142857</td><td>546.8571428571429</td></tr><tr><td>2023 Week16 Apr22</td><td>597.0</td><td>0.7449807774455361</td><td>0.337254197719314</td><td>2341.0</td><td>1591.0</td><td>1744.0</td><td>536.5714285714286</td></tr><tr><td>2023 Week17 Apr29</td><td>626.8571428571429</td><td>0.7322267651186917</td><td>0.32468348747418513</td><td>2341.0</td><td>1591.0</td><td>1714.142857142857</td><td>516.5714285714286</td></tr><tr><td>2023 Week18 May06</td><td>630.2857142857143</td><td>0.7307621895404894</td><td>0.32926281763491067</td><td>2341.0</td><td>1591.0</td><td>1710.7142857142858</td><td>523.8571428571429</td></tr><tr><td>2023 Week19 May13</td><td>628.2857142857143</td><td>0.7316165252944408</td><td>0.3153452455778037</td><td>2341.0</td><td>1591.0</td><td>1712.7142857142858</td><td>501.7142857142857</td></tr><tr><td>2023 Week20 May20</td><td>622.0</td><td>0.7343015805211448</td><td>0.3295621202597947</td><td>2341.0</td><td>1591.0</td><td>1719.0</td><td>524.3333333333334</td></tr></tbody></table></div>"
      ]
     },
     "metadata": {
      "application/vnd.databricks.v1+output": {
       "addedWidgets": {},
       "aggData": [],
       "aggError": "",
       "aggOverflow": false,
       "aggSchema": [],
       "aggSeriesLimitReached": false,
       "aggType": "",
       "arguments": {},
       "columnCustomDisplayInfos": {},
       "data": [
        [
         "2020 Week18 May09",
         603.0,
         0.7002982107355865,
         0.41611610527455867,
         2012.0,
         1319.0,
         1409.0,
         548.8571428571429
        ],
        [
         "2020 Week19 May16",
         580.4285714285714,
         0.7115166145981255,
         0.40755983970540455,
         2012.0,
         1319.0,
         1431.5714285714287,
         537.5714285714286
        ],
        [
         "2020 Week20 May23",
         582.0,
         0.7107355864811133,
         0.3970540452723925,
         2012.0,
         1319.0,
         1430.0,
         523.7142857142857
        ],
        [
         "2020 Week21 May30",
         534.8571428571429,
         0.7341664299914797,
         0.39857034549983755,
         2012.0,
         1319.0,
         1477.142857142857,
         525.7142857142857
        ],
        [
         "2020 Week22 Jun06",
         541.1428571428571,
         0.7310423175234309,
         0.3977038882270118,
         2012.0,
         1319.0,
         1470.857142857143,
         524.5714285714286
        ],
        [
         "2020 Week23 Jun13",
         530.7142857142857,
         0.7362255041181482,
         0.39467128777212174,
         2012.0,
         1319.0,
         1481.2857142857142,
         520.5714285714286
        ],
        [
         "2020 Week24 Jun20",
         502.7142857142857,
         0.750142005112184,
         0.4047438535687209,
         2012.0,
         1319.0,
         1509.2857142857142,
         533.8571428571429
        ],
        [
         "2020 Week25 Jun27",
         512.7142857142857,
         0.7451718261857427,
         0.38373226470269683,
         2012.0,
         1319.0,
         1499.2857142857142,
         506.14285714285717
        ],
        [
         "2020 Week26 Jul04",
         532.2857142857143,
         0.735444476001136,
         0.34734105924401604,
         2012.0,
         1319.0,
         1479.7142857142858,
         458.14285714285717
        ],
        [
         "2020 Week27 Jul11",
         472.85714285714283,
         0.7649815393354161,
         0.3542727174266219,
         2012.0,
         1319.0,
         1539.142857142857,
         467.2857142857143
        ],
        [
         "2020 Week28 Jul18",
         474.42857142857144,
         0.7642005112184038,
         0.34885735947146107,
         2012.0,
         1319.0,
         1537.5714285714287,
         460.14285714285717
        ],
        [
         "2020 Week29 Jul25",
         493.85714285714283,
         0.7545441635898892,
         0.3412758583342359,
         2012.0,
         1319.0,
         1518.142857142857,
         450.14285714285717
        ],
        [
         "2020 Week30 Aug01",
         481.42857142857144,
         0.7607213859698949,
         0.32925376367377884,
         2012.0,
         1319.0,
         1530.5714285714287,
         434.2857142857143
        ],
        [
         "2020 Week31 Aug08",
         488.85714285714283,
         0.7570292530531099,
         0.3308783710603271,
         2012.0,
         1319.0,
         1523.142857142857,
         436.42857142857144
        ],
        [
         "2020 Week32 Aug15",
         487.0,
         0.7579522862823062,
         0.3370518791292104,
         2012.0,
         1319.0,
         1525.0,
         444.57142857142856
        ],
        [
         "2020 Week33 Aug22",
         463.85714285714283,
         0.7694547003692133,
         0.341817394129752,
         2012.0,
         1319.0,
         1548.142857142857,
         450.85714285714283
        ],
        [
         "2020 Week34 Aug29",
         439.57142857142856,
         0.7815251349048565,
         0.335318964583559,
         2012.0,
         1319.0,
         1572.4285714285713,
         442.2857142857143
        ],
        [
         "2020 Week35 Sep05",
         476.7142857142857,
         0.7630644703209315,
         0.3462579876529839,
         2012.0,
         1319.0,
         1535.2857142857142,
         456.7142857142857
        ],
        [
         "2020 Week36 Sep12",
         450.85714285714283,
         0.7759159329735871,
         0.3632622116321889,
         2012.0,
         1319.0,
         1561.142857142857,
         479.14285714285717
        ],
        [
         "2020 Week37 Sep19",
         423.2857142857143,
         0.7896194262993468,
         0.3580634679952345,
         2012.0,
         1319.0,
         1588.7142857142858,
         472.2857142857143
        ],
        [
         "2020 Week38 Sep26",
         407.7142857142857,
         0.7973587049133769,
         0.3599046896999892,
         2012.0,
         1319.0,
         1604.2857142857142,
         474.7142857142857
        ],
        [
         "2020 Week39 Oct03",
         388.57142857142856,
         0.8068730474297074,
         0.36532004765515,
         2012.0,
         1319.0,
         1623.4285714285713,
         481.85714285714283
        ],
        [
         "2020 Week40 Oct10",
         396.0,
         0.8033484676503972,
         0.38122563880467736,
         2013.7142857142858,
         1319.4285714285713,
         1617.7142857142858,
         503.0
        ],
        [
         "2020 Week41 Oct17",
         416.7142857142857,
         0.793413597733711,
         0.38347732181425487,
         2017.142857142857,
         1322.857142857143,
         1600.4285714285713,
         507.2857142857143
        ],
        [
         "2020 Week42 Oct24",
         409.0,
         0.8015526443474041,
         0.40192993496958257,
         2061.0,
         1362.0,
         1652.0,
         547.4285714285714
        ],
        [
         "2020 Week43 Oct31",
         394.57142857142856,
         0.8085534068066819,
         0.41147472204740926,
         2061.0,
         1362.0,
         1666.4285714285713,
         560.4285714285714
        ],
        [
         "2020 Week44 Nov07",
         400.57142857142856,
         0.8081423195347246,
         0.4080648471167658,
         2087.8571428571427,
         1392.2857142857142,
         1687.2857142857142,
         568.1428571428571
        ],
        [
         "2020 Week45 Nov14",
         432.14285714285717,
         0.7963511512050626,
         0.40897730680795763,
         2122.0,
         1429.0,
         1689.857142857143,
         584.4285714285714
        ],
        [
         "2020 Week46 Nov21",
         431.2857142857143,
         0.7972873161888135,
         0.4047998406691894,
         2127.5714285714284,
         1434.5714285714287,
         1696.2857142857142,
         580.7142857142857
        ],
        [
         "2020 Week47 Nov28",
         439.7142857142857,
         0.7934644031403073,
         0.4145443692797453,
         2129.0,
         1436.0,
         1689.2857142857142,
         595.2857142857143
        ],
        [
         "2020 Week48 Dec05",
         422.85714285714283,
         0.8019404483104717,
         0.43195384003183446,
         2135.0,
         1436.0,
         1712.142857142857,
         620.2857142857143
        ],
        [
         "2020 Week49 Dec12",
         416.14285714285717,
         0.8051765650080257,
         0.4369279745324314,
         2136.0,
         1436.0,
         1719.857142857143,
         627.4285714285714
        ],
        [
         "2020 Week50 Dec19",
         395.0,
         0.8150749063670412,
         0.45274572224432946,
         2136.0,
         1436.0,
         1741.0,
         650.1428571428571
        ],
        [
         "2020 Week51 Dec26",
         499.14285714285717,
         0.766318887105404,
         0.4346398726621568,
         2136.0,
         1436.0,
         1636.857142857143,
         624.1428571428571
        ],
        [
         "2020 Week52 Jan02 2021",
         468.7142857142857,
         0.7805644729802034,
         0.4616991643454039,
         2136.0,
         1436.0,
         1667.2857142857142,
         663.0
        ],
        [
         "2021 Week01 Jan09",
         391.2857142857143,
         0.8168138041733547,
         0.4953243135694389,
         2136.0,
         1436.0,
         1744.7142857142858,
         711.2857142857143
        ],
        [
         "2021 Week02 Jan16",
         344.14285714285717,
         0.838884430176565,
         0.5240226797970755,
         2136.0,
         1436.142857142857,
         1791.857142857143,
         752.5714285714286
        ],
        [
         "2021 Week03 Jan23",
         372.14285714285717,
         0.8267491354083533,
         0.5415549597855228,
         2148.0,
         1438.7142857142858,
         1775.857142857143,
         779.1428571428571
        ],
        [
         "2021 Week04 Jan30",
         401.2857142857143,
         0.8133554817275748,
         0.4975677553856845,
         2150.0,
         1439.0,
         1748.7142857142858,
         716.0
        ],
        [
         "2021 Week05 Feb06",
         516.0,
         0.7743064233941515,
         0.4624133148404993,
         2286.285714285714,
         1545.0,
         1770.2857142857142,
         714.4285714285714
        ],
        [
         "2021 Week06 Feb13",
         627.5714285714286,
         0.7397666015046502,
         0.4228129615150725,
         2411.5714285714284,
         1644.4285714285713,
         1784.0,
         695.2857142857143
        ],
        [
         "2021 Week07 Feb20",
         589.4285714285714,
         0.7494686987673811,
         0.4283667621776504,
         2352.714285714286,
         1595.4285714285713,
         1763.2857142857142,
         683.4285714285714
        ],
        [
         "2021 Week08 Feb27",
         484.7142857142857,
         0.7869387755102041,
         0.4450764640059679,
         2275.0,
         1532.0,
         1790.2857142857142,
         681.8571428571429
        ],
        [
         "2021 Week09 Mar06",
         502.57142857142856,
         0.7794633901705116,
         0.4487024462840666,
         2278.8571428571427,
         1535.857142857143,
         1776.2857142857142,
         689.1428571428571
        ],
        [
         "2021 Week10 Mar13",
         534.4285714285714,
         0.7674086048246704,
         0.42951602534668015,
         2297.714285714286,
         1555.5714285714287,
         1763.2857142857142,
         668.1428571428571
        ],
        [
         "2021 Week11 Mar20",
         550.5714285714286,
         0.7624360475867595,
         0.42787330316742084,
         2317.5714285714284,
         1578.5714285714287,
         1767.0,
         675.4285714285714
        ],
        [
         "2021 Week12 Mar27",
         523.4285714285714,
         0.7742869463438674,
         0.4166365280289331,
         2319.0,
         1580.0,
         1795.5714285714287,
         658.2857142857143
        ],
        [
         "2021 Week13 Apr03",
         514.5714285714286,
         0.778352101409144,
         0.45027124773960214,
         2321.5714285714284,
         1580.0,
         1807.0,
         711.4285714285714
        ],
        [
         "2021 Week14 Apr10",
         479.0,
         0.7931523750771129,
         0.4956798544793088,
         2315.714285714286,
         1570.7142857142858,
         1836.7142857142858,
         778.5714285714286
        ],
        [
         "2021 Week15 Apr17",
         412.7142857142857,
         0.8206369901285155,
         0.5709695189129637,
         2301.0,
         1556.0,
         1888.2857142857142,
         888.4285714285714
        ],
        [
         "2021 Week16 Apr24",
         405.42857142857144,
         0.8252678241595862,
         0.6103008204193254,
         2320.285714285714,
         1567.142857142857,
         1914.857142857143,
         956.4285714285714
        ],
        [
         "2021 Week17 May01",
         437.42857142857144,
         0.8156088160905697,
         0.6066796944395096,
         2372.285714285714,
         1608.2857142857142,
         1934.857142857143,
         975.7142857142857
        ],
        [
         "2021 Week18 May08",
         594.4285714285714,
         0.7672558451728382,
         0.5407821229050279,
         2554.0,
         1790.0,
         1959.5714285714287,
         968.0
        ],
        [
         "2021 Week19 May15",
         615.8571428571429,
         0.7588656449267256,
         0.5268156424581005,
         2554.0,
         1790.0,
         1938.142857142857,
         943.0
        ],
        [
         "2021 Week20 May22",
         598.0,
         0.7658574784651527,
         0.5228252194732642,
         2554.0,
         1790.0,
         1956.0,
         935.8571428571429
        ],
        [
         "2021 Week21 May29",
         638.4285714285714,
         0.7500279673341537,
         0.49848363926576217,
         2554.0,
         1790.0,
         1915.5714285714287,
         892.2857142857143
        ],
        [
         "2021 Week22 Jun05",
         699.8571428571429,
         0.7259760599619645,
         0.4485235434956105,
         2554.0,
         1790.0,
         1854.142857142857,
         802.8571428571429
        ],
        [
         "2021 Week23 Jun12",
         783.1428571428571,
         0.6933661483387403,
         0.4096568236233041,
         2554.0,
         1790.0,
         1770.857142857143,
         733.2857142857143
        ],
        [
         "2021 Week24 Jun19",
         866.7142857142857,
         0.6606443673789014,
         0.35171588188347963,
         2554.0,
         1790.0,
         1687.2857142857142,
         629.5714285714286
        ],
        [
         "2021 Week25 Jun26",
         896.0,
         0.6491777603758809,
         0.3289704708699122,
         2554.0,
         1790.0,
         1658.0,
         588.8571428571429
        ],
        [
         "2021 Week26 Jul03",
         904.8571428571429,
         0.6457098109408211,
         0.33423782920989625,
         2554.0,
         1790.0,
         1649.142857142857,
         598.2857142857143
        ],
        [
         "2021 Week27 Jul10",
         909.0,
         0.644087705559906,
         0.3284118116520351,
         2554.0,
         1790.0,
         1645.0,
         587.8571428571429
        ],
        [
         "2021 Week28 Jul17",
         925.5714285714286,
         0.6375992840362457,
         0.3043096568236233,
         2554.0,
         1790.0,
         1628.4285714285713,
         544.7142857142857
        ],
        [
         "2021 Week29 Jul24",
         954.1428571428571,
         0.6264123503747623,
         0.302633679169992,
         2554.0,
         1790.0,
         1599.857142857143,
         541.7142857142857
        ],
        [
         "2021 Week30 Jul31",
         809.4285714285714,
         0.6636590288495785,
         0.33629616845012084,
         2406.5714285714284,
         1655.4285714285713,
         1597.142857142857,
         556.7142857142857
        ],
        [
         "2021 Week31 Aug07",
         784.8571428571429,
         0.6705049778097637,
         0.3403901670894935,
         2382.0,
         1633.0,
         1597.142857142857,
         555.8571428571429
        ],
        [
         "2021 Week32 Aug14",
         779.2857142857143,
         0.6728439486625885,
         0.3520251946461377,
         2382.0,
         1633.0,
         1602.7142857142858,
         574.8571428571429
        ],
        [
         "2021 Week33 Aug21",
         768.1428571428571,
         0.677521890368238,
         0.35158778759513604,
         2382.0,
         1633.0,
         1613.857142857143,
         574.1428571428571
        ],
        [
         "2021 Week34 Aug28",
         745.0,
         0.6872376154492024,
         0.34940075234012774,
         2382.0,
         1633.0,
         1637.0,
         570.5714285714286
        ],
        [
         "2021 Week35 Sep04",
         748.1428571428571,
         0.6859181959937627,
         0.34948823375032806,
         2382.0,
         1633.0,
         1633.857142857143,
         570.7142857142857
        ],
        [
         "2021 Week36 Sep11",
         685.0,
         0.7124265323257767,
         0.3772198407838334,
         2382.0,
         1633.0,
         1697.0,
         616.0
        ],
        [
         "2021 Week37 Sep18",
         671.2857142857143,
         0.7181839990404222,
         0.38001924591024405,
         2382.0,
         1633.0,
         1710.7142857142858,
         620.5714285714286
        ],
        [
         "2021 Week38 Sep25",
         679.5714285714286,
         0.712011139363119,
         0.37742535660494375,
         2359.714285714286,
         1612.4285714285713,
         1680.142857142857,
         608.5714285714286
        ],
        [
         "2021 Week39 Oct02",
         662.2857142857143,
         0.7188940092165899,
         0.38382313770753795,
         2356.0,
         1609.0,
         1693.7142857142858,
         617.5714285714286
        ],
        [
         "2021 Week40 Oct09",
         614.5714285714286,
         0.7391462527285957,
         0.39314569830418183,
         2356.0,
         1609.0,
         1741.4285714285713,
         632.5714285714286
        ],
        [
         "2021 Week41 Oct16",
         623.7142857142857,
         0.7352655833131215,
         0.390393323270887,
         2356.0,
         1609.0,
         1732.2857142857142,
         628.1428571428571
        ],
        [
         "2021 Week42 Oct23",
         614.2857142857143,
         0.7380285122456439,
         0.38570025885923415,
         2344.8571428571427,
         1600.4285714285713,
         1730.5714285714287,
         617.2857142857143
        ],
        [
         "2021 Week43 Oct30",
         614.4285714285714,
         0.7377598926894702,
         0.38434735995711605,
         2343.0,
         1599.0,
         1728.5714285714287,
         614.5714285714286
        ],
        [
         "2021 Week44 Nov06",
         629.1428571428571,
         0.731479787817816,
         0.36880192977753956,
         2343.0,
         1599.0,
         1713.857142857143,
         589.7142857142857
        ],
        [
         "2021 Week45 Nov13",
         618.7142857142857,
         0.7359307359307359,
         0.36469221835075494,
         2343.0,
         1599.0,
         1724.2857142857142,
         583.1428571428571
        ],
        [
         "2021 Week46 Nov20",
         625.5714285714286,
         0.7330040851167612,
         0.3688912713302957,
         2343.0,
         1599.0,
         1717.4285714285713,
         589.8571428571429
        ],
        [
         "2021 Week47 Nov27",
         619.1428571428571,
         0.7357478202548625,
         0.3786295005807201,
         2343.0,
         1599.0,
         1723.857142857143,
         605.4285714285714
        ],
        [
         "2021 Week48 Dec04",
         623.8571428571429,
         0.7337357478202549,
         0.38506209237916555,
         2343.0,
         1599.0,
         1719.142857142857,
         615.7142857142857
        ],
        [
         "2021 Week49 Dec11",
         603.5714285714286,
         0.7423937564782636,
         0.39104797641383005,
         2343.0,
         1599.0,
         1739.4285714285713,
         625.2857142857143
        ],
        [
         "2021 Week50 Dec18",
         612.0,
         0.7387964148527529,
         0.38309657821852944,
         2343.0,
         1599.0,
         1731.0,
         612.5714285714286
        ],
        [
         "2021 Week51 Dec25",
         689.4285714285714,
         0.7057496494116212,
         0.3883677298311445,
         2343.0,
         1599.0,
         1653.5714285714287,
         621.0
        ],
        [
         "2021 Week52 Jan01 2022",
         701.5714285714286,
         0.7005670385952076,
         0.3777360850531582,
         2343.0,
         1599.0,
         1641.4285714285713,
         604.0
        ],
        [
         "2022 Week01 Jan08",
         578.8571428571429,
         0.7529418937869642,
         0.41847583310997943,
         2343.0,
         1599.0,
         1764.142857142857,
         669.1428571428571
        ],
        [
         "2022 Week02 Jan15",
         528.0,
         0.7746478873239436,
         0.4705619583668364,
         2343.0,
         1599.0,
         1815.0,
         752.4285714285714
        ],
        [
         "2022 Week03 Jan22",
         486.14285714285717,
         0.7925126516675812,
         0.5054945054945055,
         2343.0,
         1599.0,
         1856.857142857143,
         808.2857142857143
        ],
        [
         "2022 Week04 Jan29",
         471.85714285714283,
         0.798609840863362,
         0.5145180023228804,
         2343.0,
         1599.0,
         1871.142857142857,
         822.7142857142857
        ],
        [
         "2022 Week05 Feb05",
         514.5714285714286,
         0.7803792451679775,
         0.4828910926471902,
         2343.0,
         1599.0,
         1828.4285714285713,
         772.1428571428571
        ],
        [
         "2022 Week06 Feb12",
         540.8571428571429,
         0.769160417047741,
         0.4723487894219602,
         2343.0,
         1599.0,
         1802.142857142857,
         755.2857142857143
        ],
        [
         "2022 Week07 Feb19",
         602.5714285714286,
         0.7428205597219681,
         0.4406325381935138,
         2343.0,
         1599.0,
         1740.4285714285713,
         704.5714285714286
        ],
        [
         "2022 Week08 Feb26",
         636.4285714285714,
         0.7283702213279678,
         0.4099883855981417,
         2343.0,
         1599.0,
         1706.5714285714287,
         655.5714285714286
        ],
        [
         "2022 Week09 Mar05",
         641.0,
         0.726419120785318,
         0.3797015992137943,
         2343.0,
         1599.0,
         1702.0,
         607.1428571428571
        ],
        [
         "2022 Week10 Mar12",
         633.1428571428571,
         0.7297725748429974,
         0.39354953989100333,
         2343.0,
         1599.0,
         1709.857142857143,
         629.2857142857143
        ],
        [
         "2022 Week11 Mar19",
         679.4285714285714,
         0.7100176818486678,
         0.36379880282319305,
         2343.0,
         1599.0,
         1663.5714285714287,
         581.7142857142857
        ],
        [
         "2022 Week12 Mar26",
         694.7142857142857,
         0.7034936894091823,
         0.34780666487983564,
         2343.0,
         1599.0,
         1648.2857142857142,
         556.1428571428571
        ],
        [
         "2022 Week13 Apr02",
         657.8571428571429,
         0.7192244375342967,
         0.3675511480389529,
         2343.0,
         1599.0,
         1685.142857142857,
         587.7142857142857
        ],
        [
         "2022 Week14 Apr09",
         639.2857142857143,
         0.7271507834888117,
         0.3716608594657375,
         2343.0,
         1599.0,
         1703.7142857142858,
         594.2857142857143
        ],
        [
         "2022 Week15 Apr16",
         660.5714285714286,
         0.7180659715870984,
         0.36585365853658536,
         2343.0,
         1599.0,
         1682.4285714285713,
         585.0
        ],
        [
         "2022 Week16 Apr23",
         618.4285714285714,
         0.7360526797146515,
         0.3799696238720629,
         2343.0,
         1599.0,
         1724.5714285714287,
         607.5714285714286
        ],
        [
         "2022 Week17 Apr30",
         635.2857142857143,
         0.7288579964636303,
         0.35915304207987137,
         2343.0,
         1599.0,
         1707.7142857142858,
         574.2857142857143
        ],
        [
         "2022 Week18 May07",
         631.5714285714286,
         0.7304432656545332,
         0.36460287679799874,
         2343.0,
         1599.0,
         1711.4285714285713,
         583.0
        ],
        [
         "2022 Week19 May14",
         646.0,
         0.7242851045667947,
         0.37594925399803447,
         2343.0,
         1599.0,
         1697.0,
         601.1428571428571
        ],
        [
         "2022 Week20 May21",
         627.5714285714286,
         0.7321504786293519,
         0.38407933529884747,
         2343.0,
         1599.0,
         1715.4285714285713,
         614.1428571428571
        ],
        [
         "2022 Week21 May28",
         630.0,
         0.7311139564660691,
         0.36576431698382916,
         2343.0,
         1599.0,
         1713.0,
         584.8571428571429
        ],
        [
         "2022 Week22 Jun04",
         646.5714285714286,
         0.7240412169989635,
         0.3534351827034754,
         2343.0,
         1599.0,
         1696.4285714285713,
         565.1428571428571
        ],
        [
         "2022 Week23 Jun11",
         672.7142857142857,
         0.7128833607706847,
         0.34476905208612524,
         2343.0,
         1599.0,
         1670.2857142857142,
         551.2857142857143
        ],
        [
         "2022 Week24 Jun18",
         673.2857142857143,
         0.7126394732028535,
         0.3410167068703654,
         2343.0,
         1599.0,
         1669.7142857142858,
         545.2857142857143
        ],
        [
         "2022 Week25 Jun25",
         705.4285714285714,
         0.6989207975123468,
         0.3450370767443938,
         2343.0,
         1599.0,
         1637.5714285714287,
         551.7142857142857
        ],
        [
         "2022 Week26 Jul02",
         753.8571428571429,
         0.6782513261386501,
         0.3226123470025909,
         2343.0,
         1599.0,
         1589.142857142857,
         515.8571428571429
        ],
        [
         "2022 Week27 Jul09",
         705.4285714285714,
         0.6989207975123468,
         0.3323505762530153,
         2343.0,
         1599.0,
         1637.5714285714287,
         531.4285714285714
        ],
        [
         "2022 Week28 Jul16",
         690.0,
         0.70550576184379,
         0.32886625569552397,
         2343.0,
         1599.0,
         1653.0,
         525.8571428571429
        ],
        [
         "2022 Week29 Jul23",
         704.8571428571429,
         0.699164685080178,
         0.32636469221835074,
         2343.0,
         1599.0,
         1638.142857142857,
         521.8571428571429
        ],
        [
         "2022 Week30 Jul30",
         692.0,
         0.7046521553563807,
         0.33127847761994106,
         2343.0,
         1599.0,
         1651.0,
         529.7142857142857
        ],
        [
         "2022 Week31 Aug06",
         701.1428571428571,
         0.700749954271081,
         0.33878316805146075,
         2343.0,
         1599.0,
         1641.857142857143,
         541.7142857142857
        ],
        [
         "2022 Week32 Aug13",
         670.1428571428571,
         0.7139808548259252,
         0.34637720003573663,
         2343.0,
         1599.0,
         1672.857142857143,
         553.8571428571429
        ],
        [
         "2022 Week33 Aug20",
         685.0,
         0.7076397780623133,
         0.3521844009648888,
         2343.0,
         1599.0,
         1658.0,
         563.1428571428571
        ],
        [
         "2022 Week34 Aug27",
         691.2857142857143,
         0.7049570148161698,
         0.3425355132672206,
         2343.0,
         1599.0,
         1651.7142857142858,
         547.7142857142857
        ],
        [
         "2022 Week35 Sep03",
         686.5714285714286,
         0.7069690872507773,
         0.3335120164388457,
         2343.0,
         1599.0,
         1656.4285714285713,
         533.2857142857143
        ],
        [
         "2022 Week36 Sep10",
         660.2857142857143,
         0.718187915371014,
         0.34771732332707944,
         2343.0,
         1599.0,
         1682.7142857142858,
         556.0
        ],
        [
         "2022 Week37 Sep17",
         656.2857142857143,
         0.7198951283458326,
         0.34798534798534797,
         2343.0,
         1599.0,
         1686.7142857142858,
         556.4285714285714
        ],
        [
         "2022 Week38 Sep24",
         632.2857142857143,
         0.7297429321609574,
         0.3480361456562584,
         2339.5714285714284,
         1596.7142857142858,
         1707.2857142857142,
         555.7142857142857
        ],
        [
         "2022 Week39 Oct01",
         640.5714285714286,
         0.7261679389312977,
         0.3518003052886774,
         2339.285714285714,
         1591.0,
         1698.7142857142858,
         559.7142857142857
        ],
        [
         "2022 Week40 Oct08",
         592.7142857142857,
         0.7468114969182889,
         0.381700637514591,
         2341.0,
         1591.0,
         1748.2857142857142,
         607.2857142857143
        ],
        [
         "2022 Week41 Oct15",
         567.8571428571429,
         0.7574296698602551,
         0.37182365089341834,
         2341.0,
         1591.0,
         1773.142857142857,
         591.5714285714286
        ],
        [
         "2022 Week42 Oct22",
         572.4285714285714,
         0.7554769024226521,
         0.37038699829397503,
         2341.0,
         1591.0,
         1768.5714285714287,
         589.2857142857143
        ],
        [
         "2022 Week43 Oct29",
         571.1428571428571,
         0.756026118264478,
         0.37783963365358714,
         2341.0,
         1591.0,
         1769.857142857143,
         601.1428571428571
        ],
        [
         "2022 Week44 Nov05",
         566.4285714285714,
         0.758039909684506,
         0.37954565861542605,
         2341.0,
         1591.0,
         1774.5714285714287,
         603.8571428571429
        ],
        [
         "2022 Week45 Nov12",
         597.8571428571429,
         0.7446146335509856,
         0.3609589656101284,
         2341.0,
         1591.0,
         1743.142857142857,
         574.2857142857143
        ],
        [
         "2022 Week46 Nov19",
         609.7142857142857,
         0.7395496430097028,
         0.36455059710873666,
         2341.0,
         1591.0,
         1731.2857142857142,
         580.0
        ],
        [
         "2022 Week47 Nov26",
         602.7142857142857,
         0.7425398181485324,
         0.3588039867109635,
         2341.0,
         1591.0,
         1738.2857142857142,
         570.8571428571429
        ],
        [
         "2022 Week48 Dec03",
         587.0,
         0.7492524562152926,
         0.3776600520786567,
         2341.0,
         1591.0,
         1754.0,
         600.8571428571429
        ],
        [
         "2022 Week49 Dec10",
         557.5714285714286,
         0.7618233965948618,
         0.3848433150758732,
         2341.0,
         1591.0,
         1783.4285714285713,
         612.2857142857143
        ],
        [
         "2022 Week50 Dec17",
         598.0,
         0.7445536095685604,
         0.3698482535691838,
         2341.0,
         1591.0,
         1743.0,
         588.4285714285714
        ],
        [
         "2022 Week51 Dec24",
         646.0,
         0.7240495514737292,
         0.3594325222232199,
         2341.0,
         1591.0,
         1695.0,
         571.8571428571429
        ],
        [
         "2022 Week52 Dec31",
         667.8571428571429,
         0.7147128821626899,
         0.35144114213881655,
         2341.0,
         1591.0,
         1673.142857142857,
         559.1428571428571
        ],
        [
         "2023 Week01 Jan07",
         580.1428571428571,
         0.752181607371697,
         0.3787375415282392,
         2341.0,
         1591.0,
         1760.857142857143,
         602.5714285714286
        ],
        [
         "2023 Week02 Jan14",
         528.7142857142857,
         0.7741502410447306,
         0.3599712669480111,
         2341.0,
         1591.0,
         1812.2857142857142,
         572.7142857142857
        ],
        [
         "2023 Week03 Jan21",
         577.7142857142857,
         0.7532190150729237,
         0.3435395528418784,
         2341.0,
         1591.0,
         1763.2857142857142,
         546.5714285714286
        ],
        [
         "2023 Week04 Jan28",
         597.1428571428571,
         0.744919753463111,
         0.33958875819340933,
         2341.0,
         1591.0,
         1743.857142857143,
         540.2857142857143
        ],
        [
         "2023 Week05 Feb04",
         620.1428571428571,
         0.735094892292671,
         0.32558139534883723,
         2341.0,
         1591.0,
         1720.857142857143,
         518.0
        ],
        [
         "2023 Week06 Feb11",
         599.5714285714286,
         0.7438823457618844,
         0.34650264882823023,
         2341.0,
         1591.0,
         1741.4285714285713,
         551.2857142857143
        ],
        [
         "2023 Week07 Feb18",
         598.1428571428571,
         0.7444925855861354,
         0.34695160276555626,
         2341.0,
         1591.0,
         1742.857142857143,
         552.0
        ],
        [
         "2023 Week08 Feb25",
         614.8571428571429,
         0.7373527796423994,
         0.33087905180928434,
         2341.0,
         1591.0,
         1726.142857142857,
         526.4285714285714
        ],
        [
         "2023 Week09 Mar04",
         606.8571428571429,
         0.7407701226582046,
         0.32468348747418513,
         2341.0,
         1591.0,
         1734.142857142857,
         516.5714285714286
        ],
        [
         "2023 Week10 Mar11",
         614.2857142857143,
         0.7375968755720999,
         0.321989763850229,
         2341.0,
         1591.0,
         1726.7142857142858,
         512.2857142857143
        ],
        [
         "2023 Week11 Mar18",
         668.5714285714286,
         0.7144077622505645,
         0.2955912723354584,
         2341.0,
         1591.0,
         1672.4285714285713,
         470.2857142857143
        ],
        [
         "2023 Week12 Mar25",
         645.1428571428571,
         0.7244156953682798,
         0.32181018227529856,
         2341.0,
         1591.0,
         1695.857142857143,
         512.0
        ],
        [
         "2023 Week13 Apr01",
         646.8571428571429,
         0.7236834075791786,
         0.3104965430546826,
         2341.0,
         1591.0,
         1694.142857142857,
         494.0
        ],
        [
         "2023 Week14 Apr08",
         648.1428571428571,
         0.7231341917373528,
         0.3236957888120679,
         2341.0,
         1591.0,
         1692.857142857143,
         515.0
        ],
        [
         "2023 Week15 Apr15",
         596.8571428571429,
         0.7450418014279612,
         0.34371913441680885,
         2341.0,
         1591.0,
         1744.142857142857,
         546.8571428571429
        ],
        [
         "2023 Week16 Apr22",
         597.0,
         0.7449807774455361,
         0.337254197719314,
         2341.0,
         1591.0,
         1744.0,
         536.5714285714286
        ],
        [
         "2023 Week17 Apr29",
         626.8571428571429,
         0.7322267651186917,
         0.32468348747418513,
         2341.0,
         1591.0,
         1714.142857142857,
         516.5714285714286
        ],
        [
         "2023 Week18 May06",
         630.2857142857143,
         0.7307621895404894,
         0.32926281763491067,
         2341.0,
         1591.0,
         1710.7142857142858,
         523.8571428571429
        ],
        [
         "2023 Week19 May13",
         628.2857142857143,
         0.7316165252944408,
         0.3153452455778037,
         2341.0,
         1591.0,
         1712.7142857142858,
         501.7142857142857
        ],
        [
         "2023 Week20 May20",
         622.0,
         0.7343015805211448,
         0.3295621202597947,
         2341.0,
         1591.0,
         1719.0,
         524.3333333333334
        ]
       ],
       "datasetInfos": [],
       "dbfsResultPath": null,
       "isJsonSchema": true,
       "metadata": {},
       "overflow": false,
       "plotOptions": {
        "customPlotOptions": {},
        "displayType": "table",
        "pivotAggregation": null,
        "pivotColumns": null,
        "xColumns": null,
        "yColumns": null
       },
       "removedWidgets": [],
       "schema": [
        {
         "metadata": "{}",
         "name": "week",
         "type": "\"string\""
        },
        {
         "metadata": "{}",
         "name": "available_baseline_beds_avg",
         "type": "\"double\""
        },
        {
         "metadata": "{}",
         "name": "adult_baseline_occupancy",
         "type": "\"double\""
        },
        {
         "metadata": "{}",
         "name": "vented_adult_baseline_occupancy",
         "type": "\"double\""
        },
        {
         "metadata": "{}",
         "name": "adult_baseline_beds_avg",
         "type": "\"double\""
        },
        {
         "metadata": "{}",
         "name": "vented_adult_baseline_beds_avg",
         "type": "\"double\""
        },
        {
         "metadata": "{}",
         "name": "adult_baseline_patients_avg",
         "type": "\"double\""
        },
        {
         "metadata": "{}",
         "name": "vented_adult_baseline_patients_avg",
         "type": "\"double\""
        }
       ],
       "type": "table"
      }
     },
     "output_type": "display_data"
    }
   ],
   "source": [
    "moh_hosp_icu_weekly_table_source = config[\"cct_db_temp_schema\"] + \".temp_test\"\n",
    "print(moh_hosp_icu_weekly_table_source)\n",
    "spark.sql(f\"DROP TABLE IF EXISTS hive_metastore.default.moh_hosp_icu_weekly_table_source\")\n",
    "# spark.sql(f\"DROP TABLE IF EXISTS {temp_table_source}\") \n",
    "display(moh_hosp_weekly_icu_df)\n",
    "moh_hosp_weekly_icu_df.write.saveAsTable(\"moh_hosp_icu_weekly_table_source\")\n",
    "\n",
    "\n",
    " #hive_metastore.default.temp_table_source\n",
    "\n",
    "# #moh_hosp_weekly_icu_df = make_col_names_safe(moh_hosp_weekly_icu_df)\n",
    "# moh_hosp_weekly_icu_df.write.saveAsTable(temp_table_source)\n",
    "\n",
    "#moh_hosp_weekly_icu_df.withColumnRenamed(\"week\",\"reported_week\").write.saveAsTable(moh_hosp_icu_weekly_source)"
   ]
  },
  {
   "cell_type": "code",
   "execution_count": 0,
   "metadata": {
    "application/vnd.databricks.v1+cell": {
     "cellMetadata": {
      "byteLimit": 2048000,
      "rowLimit": 10000
     },
     "inputWidgets": {},
     "nuid": "5620d671-7674-479f-9642-843b2f22d1e0",
     "showTitle": false,
     "title": ""
    }
   },
   "outputs": [
    {
     "output_type": "stream",
     "name": "stdout",
     "output_type": "stream",
     "text": [
      "development.public.public_test\n'development.public.public_test'"
     ]
    }
   ],
   "source": [
    "test_file = config[\"cct_db_schema\"] + \".public_test\"\n",
    "print(test_file)\n",
    "\n",
    "# prevent table duplication\n",
    "spark.sql(f\"DROP TABLE  IF EXISTS {test_file}\")\n",
    "# moh_hosp_weekly_icu_df.write.saveAsTable(test_file)\n",
    "display(test_file)"
   ]
  },
  {
   "cell_type": "code",
   "execution_count": 0,
   "metadata": {
    "application/vnd.databricks.v1+cell": {
     "cellMetadata": {
      "byteLimit": 2048000,
      "rowLimit": 10000
     },
     "inputWidgets": {},
     "nuid": "c8685a33-a0ab-4b4d-aa89-bc6e4b1204df",
     "showTitle": false,
     "title": ""
    }
   },
   "outputs": [],
   "source": [
    "import re\n",
    "from pyspark.sql.functions import col, to_date\n",
    "\n",
    "def second_dateFix(str):\n",
    "    lowered = str.lower().replace(\" \", '')\n",
    "\n",
    "    second_type_of_date = re.compile(\"[0-9]{4}[a-z]{3}[0-9]{6}\") #2020jan022021 (R)  #2020 Week20 May23 2021 (K)\n",
    "    match = second_type_of_date.match(lowered)\n",
    "    \n",
    "    if match is not None:\n",
    "        fp = re.sub(\"^[0-9]{4}\", '', lowered)\n",
    "        arr = re.findall('(^[a-z]{3})([0-9]{2})([0-9]{4})', fp)\n",
    "        return arr[0][2]+arr[0][0]+arr[0][1]\n",
    "        # return arr\n",
    "    else:\n",
    "        return str\n",
    "\n",
    "#lowered = str.lower().replace(\" \", '')\n",
    "\n",
    "\n",
    "def dateFix(str):\n",
    "    # lowered = str.lower().replace(\" \", '')\n",
    "\n",
    "    return re.sub(\"week[0-9][0-9]\", '', lowered)\n",
    "\n",
    "\n"
   ]
  },
  {
   "cell_type": "code",
   "execution_count": 0,
   "metadata": {
    "application/vnd.databricks.v1+cell": {
     "cellMetadata": {
      "byteLimit": 2048000,
      "rowLimit": 10000
     },
     "inputWidgets": {},
     "nuid": "e7233463-635e-4d89-8668-18c0ce0f3d44",
     "showTitle": false,
     "title": ""
    }
   },
   "outputs": [
    {
     "output_type": "display_data",
     "data": {
      "text/html": [
       "<style scoped>\n",
       "  .table-result-container {\n",
       "    max-height: 300px;\n",
       "    overflow: auto;\n",
       "  }\n",
       "  table, th, td {\n",
       "    border: 1px solid black;\n",
       "    border-collapse: collapse;\n",
       "  }\n",
       "  th, td {\n",
       "    padding: 5px;\n",
       "  }\n",
       "  th {\n",
       "    text-align: left;\n",
       "  }\n",
       "</style><div class='table-result-container'><table class='table-result'><thead style='background-color: white'><tr><th>Transformed_Date</th></tr></thead><tbody><tr><td>2020-05-09</td></tr><tr><td>2020-05-16</td></tr><tr><td>2020-05-23</td></tr><tr><td>2020-05-30</td></tr><tr><td>2020-06-06</td></tr><tr><td>2020-06-13</td></tr><tr><td>2020-06-20</td></tr><tr><td>2020-06-27</td></tr><tr><td>2020-07-04</td></tr><tr><td>2020-07-11</td></tr><tr><td>2020-07-18</td></tr><tr><td>2020-07-25</td></tr><tr><td>2020-08-01</td></tr><tr><td>2020-08-08</td></tr><tr><td>2020-08-15</td></tr><tr><td>2020-08-22</td></tr><tr><td>2020-08-29</td></tr><tr><td>2020-09-05</td></tr><tr><td>2020-09-12</td></tr><tr><td>2020-09-19</td></tr><tr><td>2020-09-26</td></tr><tr><td>2020-10-03</td></tr><tr><td>2020-10-10</td></tr><tr><td>2020-10-17</td></tr><tr><td>2020-10-24</td></tr><tr><td>2020-10-31</td></tr><tr><td>2020-11-07</td></tr><tr><td>2020-11-14</td></tr><tr><td>2020-11-21</td></tr><tr><td>2020-11-28</td></tr><tr><td>2020-12-05</td></tr><tr><td>2020-12-12</td></tr><tr><td>2020-12-19</td></tr><tr><td>2020-12-26</td></tr><tr><td>2021-01-02</td></tr><tr><td>2021-01-09</td></tr><tr><td>2021-01-16</td></tr><tr><td>2021-01-23</td></tr><tr><td>2021-01-30</td></tr><tr><td>2021-02-06</td></tr><tr><td>2021-02-13</td></tr><tr><td>2021-02-20</td></tr><tr><td>2021-02-27</td></tr><tr><td>2021-03-06</td></tr><tr><td>2021-03-13</td></tr><tr><td>2021-03-20</td></tr><tr><td>2021-03-27</td></tr><tr><td>2021-04-03</td></tr><tr><td>2021-04-10</td></tr><tr><td>2021-04-17</td></tr><tr><td>2021-04-24</td></tr><tr><td>2021-05-01</td></tr><tr><td>2021-05-08</td></tr><tr><td>2021-05-15</td></tr><tr><td>2021-05-22</td></tr><tr><td>2021-05-29</td></tr><tr><td>2021-06-05</td></tr><tr><td>2021-06-12</td></tr><tr><td>2021-06-19</td></tr><tr><td>2021-06-26</td></tr><tr><td>2021-07-03</td></tr><tr><td>2021-07-10</td></tr><tr><td>2021-07-17</td></tr><tr><td>2021-07-24</td></tr><tr><td>2021-07-31</td></tr><tr><td>2021-08-07</td></tr><tr><td>2021-08-14</td></tr><tr><td>2021-08-21</td></tr><tr><td>2021-08-28</td></tr><tr><td>2021-09-04</td></tr><tr><td>2021-09-11</td></tr><tr><td>2021-09-18</td></tr><tr><td>2021-09-25</td></tr><tr><td>2021-10-02</td></tr><tr><td>2021-10-09</td></tr><tr><td>2021-10-16</td></tr><tr><td>2021-10-23</td></tr><tr><td>2021-10-30</td></tr><tr><td>2021-11-06</td></tr><tr><td>2021-11-13</td></tr><tr><td>2021-11-20</td></tr><tr><td>2021-11-27</td></tr><tr><td>2021-12-04</td></tr><tr><td>2021-12-11</td></tr><tr><td>2021-12-18</td></tr><tr><td>2021-12-25</td></tr><tr><td>2022-01-01</td></tr><tr><td>2022-01-08</td></tr><tr><td>2022-01-15</td></tr><tr><td>2022-01-22</td></tr><tr><td>2022-01-29</td></tr><tr><td>2022-02-05</td></tr><tr><td>2022-02-12</td></tr><tr><td>2022-02-19</td></tr><tr><td>2022-02-26</td></tr><tr><td>2022-03-05</td></tr><tr><td>2022-03-12</td></tr><tr><td>2022-03-19</td></tr><tr><td>2022-03-26</td></tr><tr><td>2022-04-02</td></tr><tr><td>2022-04-09</td></tr><tr><td>2022-04-16</td></tr><tr><td>2022-04-23</td></tr><tr><td>2022-04-30</td></tr><tr><td>2022-05-07</td></tr><tr><td>2022-05-14</td></tr><tr><td>2022-05-21</td></tr><tr><td>2022-05-28</td></tr><tr><td>2022-06-04</td></tr><tr><td>2022-06-11</td></tr><tr><td>2022-06-18</td></tr><tr><td>2022-06-25</td></tr><tr><td>2022-07-02</td></tr><tr><td>2022-07-09</td></tr><tr><td>2022-07-16</td></tr><tr><td>2022-07-23</td></tr><tr><td>2022-07-30</td></tr><tr><td>2022-08-06</td></tr><tr><td>2022-08-13</td></tr><tr><td>2022-08-20</td></tr><tr><td>2022-08-27</td></tr><tr><td>2022-09-03</td></tr><tr><td>2022-09-10</td></tr><tr><td>2022-09-17</td></tr><tr><td>2022-09-24</td></tr><tr><td>2022-10-01</td></tr><tr><td>2022-10-08</td></tr><tr><td>2022-10-15</td></tr><tr><td>2022-10-22</td></tr><tr><td>2022-10-29</td></tr><tr><td>2022-11-05</td></tr><tr><td>2022-11-12</td></tr><tr><td>2022-11-19</td></tr><tr><td>2022-11-26</td></tr><tr><td>2022-12-03</td></tr><tr><td>2022-12-10</td></tr><tr><td>2022-12-17</td></tr><tr><td>2022-12-24</td></tr><tr><td>2022-12-31</td></tr><tr><td>2023-01-07</td></tr><tr><td>2023-01-14</td></tr><tr><td>2023-01-21</td></tr><tr><td>2023-01-28</td></tr><tr><td>2023-02-04</td></tr><tr><td>2023-02-11</td></tr><tr><td>2023-02-18</td></tr><tr><td>2023-02-25</td></tr><tr><td>2023-03-04</td></tr><tr><td>2023-03-11</td></tr><tr><td>2023-03-18</td></tr><tr><td>2023-03-25</td></tr><tr><td>2023-04-01</td></tr><tr><td>2023-04-08</td></tr><tr><td>2023-04-15</td></tr><tr><td>2023-04-22</td></tr><tr><td>2023-04-29</td></tr><tr><td>2023-05-06</td></tr><tr><td>2023-05-13</td></tr><tr><td>2023-05-20</td></tr></tbody></table></div>"
      ]
     },
     "metadata": {
      "application/vnd.databricks.v1+output": {
       "addedWidgets": {},
       "aggData": [],
       "aggError": "",
       "aggOverflow": false,
       "aggSchema": [],
       "aggSeriesLimitReached": false,
       "aggType": "",
       "arguments": {},
       "columnCustomDisplayInfos": {},
       "data": [
        [
         "2020-05-09"
        ],
        [
         "2020-05-16"
        ],
        [
         "2020-05-23"
        ],
        [
         "2020-05-30"
        ],
        [
         "2020-06-06"
        ],
        [
         "2020-06-13"
        ],
        [
         "2020-06-20"
        ],
        [
         "2020-06-27"
        ],
        [
         "2020-07-04"
        ],
        [
         "2020-07-11"
        ],
        [
         "2020-07-18"
        ],
        [
         "2020-07-25"
        ],
        [
         "2020-08-01"
        ],
        [
         "2020-08-08"
        ],
        [
         "2020-08-15"
        ],
        [
         "2020-08-22"
        ],
        [
         "2020-08-29"
        ],
        [
         "2020-09-05"
        ],
        [
         "2020-09-12"
        ],
        [
         "2020-09-19"
        ],
        [
         "2020-09-26"
        ],
        [
         "2020-10-03"
        ],
        [
         "2020-10-10"
        ],
        [
         "2020-10-17"
        ],
        [
         "2020-10-24"
        ],
        [
         "2020-10-31"
        ],
        [
         "2020-11-07"
        ],
        [
         "2020-11-14"
        ],
        [
         "2020-11-21"
        ],
        [
         "2020-11-28"
        ],
        [
         "2020-12-05"
        ],
        [
         "2020-12-12"
        ],
        [
         "2020-12-19"
        ],
        [
         "2020-12-26"
        ],
        [
         "2021-01-02"
        ],
        [
         "2021-01-09"
        ],
        [
         "2021-01-16"
        ],
        [
         "2021-01-23"
        ],
        [
         "2021-01-30"
        ],
        [
         "2021-02-06"
        ],
        [
         "2021-02-13"
        ],
        [
         "2021-02-20"
        ],
        [
         "2021-02-27"
        ],
        [
         "2021-03-06"
        ],
        [
         "2021-03-13"
        ],
        [
         "2021-03-20"
        ],
        [
         "2021-03-27"
        ],
        [
         "2021-04-03"
        ],
        [
         "2021-04-10"
        ],
        [
         "2021-04-17"
        ],
        [
         "2021-04-24"
        ],
        [
         "2021-05-01"
        ],
        [
         "2021-05-08"
        ],
        [
         "2021-05-15"
        ],
        [
         "2021-05-22"
        ],
        [
         "2021-05-29"
        ],
        [
         "2021-06-05"
        ],
        [
         "2021-06-12"
        ],
        [
         "2021-06-19"
        ],
        [
         "2021-06-26"
        ],
        [
         "2021-07-03"
        ],
        [
         "2021-07-10"
        ],
        [
         "2021-07-17"
        ],
        [
         "2021-07-24"
        ],
        [
         "2021-07-31"
        ],
        [
         "2021-08-07"
        ],
        [
         "2021-08-14"
        ],
        [
         "2021-08-21"
        ],
        [
         "2021-08-28"
        ],
        [
         "2021-09-04"
        ],
        [
         "2021-09-11"
        ],
        [
         "2021-09-18"
        ],
        [
         "2021-09-25"
        ],
        [
         "2021-10-02"
        ],
        [
         "2021-10-09"
        ],
        [
         "2021-10-16"
        ],
        [
         "2021-10-23"
        ],
        [
         "2021-10-30"
        ],
        [
         "2021-11-06"
        ],
        [
         "2021-11-13"
        ],
        [
         "2021-11-20"
        ],
        [
         "2021-11-27"
        ],
        [
         "2021-12-04"
        ],
        [
         "2021-12-11"
        ],
        [
         "2021-12-18"
        ],
        [
         "2021-12-25"
        ],
        [
         "2022-01-01"
        ],
        [
         "2022-01-08"
        ],
        [
         "2022-01-15"
        ],
        [
         "2022-01-22"
        ],
        [
         "2022-01-29"
        ],
        [
         "2022-02-05"
        ],
        [
         "2022-02-12"
        ],
        [
         "2022-02-19"
        ],
        [
         "2022-02-26"
        ],
        [
         "2022-03-05"
        ],
        [
         "2022-03-12"
        ],
        [
         "2022-03-19"
        ],
        [
         "2022-03-26"
        ],
        [
         "2022-04-02"
        ],
        [
         "2022-04-09"
        ],
        [
         "2022-04-16"
        ],
        [
         "2022-04-23"
        ],
        [
         "2022-04-30"
        ],
        [
         "2022-05-07"
        ],
        [
         "2022-05-14"
        ],
        [
         "2022-05-21"
        ],
        [
         "2022-05-28"
        ],
        [
         "2022-06-04"
        ],
        [
         "2022-06-11"
        ],
        [
         "2022-06-18"
        ],
        [
         "2022-06-25"
        ],
        [
         "2022-07-02"
        ],
        [
         "2022-07-09"
        ],
        [
         "2022-07-16"
        ],
        [
         "2022-07-23"
        ],
        [
         "2022-07-30"
        ],
        [
         "2022-08-06"
        ],
        [
         "2022-08-13"
        ],
        [
         "2022-08-20"
        ],
        [
         "2022-08-27"
        ],
        [
         "2022-09-03"
        ],
        [
         "2022-09-10"
        ],
        [
         "2022-09-17"
        ],
        [
         "2022-09-24"
        ],
        [
         "2022-10-01"
        ],
        [
         "2022-10-08"
        ],
        [
         "2022-10-15"
        ],
        [
         "2022-10-22"
        ],
        [
         "2022-10-29"
        ],
        [
         "2022-11-05"
        ],
        [
         "2022-11-12"
        ],
        [
         "2022-11-19"
        ],
        [
         "2022-11-26"
        ],
        [
         "2022-12-03"
        ],
        [
         "2022-12-10"
        ],
        [
         "2022-12-17"
        ],
        [
         "2022-12-24"
        ],
        [
         "2022-12-31"
        ],
        [
         "2023-01-07"
        ],
        [
         "2023-01-14"
        ],
        [
         "2023-01-21"
        ],
        [
         "2023-01-28"
        ],
        [
         "2023-02-04"
        ],
        [
         "2023-02-11"
        ],
        [
         "2023-02-18"
        ],
        [
         "2023-02-25"
        ],
        [
         "2023-03-04"
        ],
        [
         "2023-03-11"
        ],
        [
         "2023-03-18"
        ],
        [
         "2023-03-25"
        ],
        [
         "2023-04-01"
        ],
        [
         "2023-04-08"
        ],
        [
         "2023-04-15"
        ],
        [
         "2023-04-22"
        ],
        [
         "2023-04-29"
        ],
        [
         "2023-05-06"
        ],
        [
         "2023-05-13"
        ],
        [
         "2023-05-20"
        ]
       ],
       "datasetInfos": [],
       "dbfsResultPath": null,
       "isJsonSchema": true,
       "metadata": {},
       "overflow": false,
       "plotOptions": {
        "customPlotOptions": {},
        "displayType": "table",
        "pivotAggregation": null,
        "pivotColumns": null,
        "xColumns": null,
        "yColumns": null
       },
       "removedWidgets": [],
       "schema": [
        {
         "metadata": "{}",
         "name": "Transformed_Date",
         "type": "\"date\""
        }
       ],
       "type": "table"
      }
     },
     "output_type": "display_data"
    },
    {
     "output_type": "display_data",
     "data": {
      "text/html": [
       "<style scoped>\n",
       "  .table-result-container {\n",
       "    max-height: 300px;\n",
       "    overflow: auto;\n",
       "  }\n",
       "  table, th, td {\n",
       "    border: 1px solid black;\n",
       "    border-collapse: collapse;\n",
       "  }\n",
       "  th, td {\n",
       "    padding: 5px;\n",
       "  }\n",
       "  th {\n",
       "    text-align: left;\n",
       "  }\n",
       "</style><div class='table-result-container'><table class='table-result'><thead style='background-color: white'><tr><th>week</th></tr></thead><tbody><tr><td>2020 Week18 May09</td></tr><tr><td>2020 Week19 May16</td></tr><tr><td>2020 Week20 May23</td></tr><tr><td>2020 Week21 May30</td></tr><tr><td>2020 Week22 Jun06</td></tr><tr><td>2020 Week23 Jun13</td></tr><tr><td>2020 Week24 Jun20</td></tr><tr><td>2020 Week25 Jun27</td></tr><tr><td>2020 Week26 Jul04</td></tr><tr><td>2020 Week27 Jul11</td></tr><tr><td>2020 Week28 Jul18</td></tr><tr><td>2020 Week29 Jul25</td></tr><tr><td>2020 Week30 Aug01</td></tr><tr><td>2020 Week31 Aug08</td></tr><tr><td>2020 Week32 Aug15</td></tr><tr><td>2020 Week33 Aug22</td></tr><tr><td>2020 Week34 Aug29</td></tr><tr><td>2020 Week35 Sep05</td></tr><tr><td>2020 Week36 Sep12</td></tr><tr><td>2020 Week37 Sep19</td></tr><tr><td>2020 Week38 Sep26</td></tr><tr><td>2020 Week39 Oct03</td></tr><tr><td>2020 Week40 Oct10</td></tr><tr><td>2020 Week41 Oct17</td></tr><tr><td>2020 Week42 Oct24</td></tr><tr><td>2020 Week43 Oct31</td></tr><tr><td>2020 Week44 Nov07</td></tr><tr><td>2020 Week45 Nov14</td></tr><tr><td>2020 Week46 Nov21</td></tr><tr><td>2020 Week47 Nov28</td></tr><tr><td>2020 Week48 Dec05</td></tr><tr><td>2020 Week49 Dec12</td></tr><tr><td>2020 Week50 Dec19</td></tr><tr><td>2020 Week51 Dec26</td></tr><tr><td>2020 Week52 Jan02 2021</td></tr><tr><td>2021 Week01 Jan09</td></tr><tr><td>2021 Week02 Jan16</td></tr><tr><td>2021 Week03 Jan23</td></tr><tr><td>2021 Week04 Jan30</td></tr><tr><td>2021 Week05 Feb06</td></tr><tr><td>2021 Week06 Feb13</td></tr><tr><td>2021 Week07 Feb20</td></tr><tr><td>2021 Week08 Feb27</td></tr><tr><td>2021 Week09 Mar06</td></tr><tr><td>2021 Week10 Mar13</td></tr><tr><td>2021 Week11 Mar20</td></tr><tr><td>2021 Week12 Mar27</td></tr><tr><td>2021 Week13 Apr03</td></tr><tr><td>2021 Week14 Apr10</td></tr><tr><td>2021 Week15 Apr17</td></tr><tr><td>2021 Week16 Apr24</td></tr><tr><td>2021 Week17 May01</td></tr><tr><td>2021 Week18 May08</td></tr><tr><td>2021 Week19 May15</td></tr><tr><td>2021 Week20 May22</td></tr><tr><td>2021 Week21 May29</td></tr><tr><td>2021 Week22 Jun05</td></tr><tr><td>2021 Week23 Jun12</td></tr><tr><td>2021 Week24 Jun19</td></tr><tr><td>2021 Week25 Jun26</td></tr><tr><td>2021 Week26 Jul03</td></tr><tr><td>2021 Week27 Jul10</td></tr><tr><td>2021 Week28 Jul17</td></tr><tr><td>2021 Week29 Jul24</td></tr><tr><td>2021 Week30 Jul31</td></tr><tr><td>2021 Week31 Aug07</td></tr><tr><td>2021 Week32 Aug14</td></tr><tr><td>2021 Week33 Aug21</td></tr><tr><td>2021 Week34 Aug28</td></tr><tr><td>2021 Week35 Sep04</td></tr><tr><td>2021 Week36 Sep11</td></tr><tr><td>2021 Week37 Sep18</td></tr><tr><td>2021 Week38 Sep25</td></tr><tr><td>2021 Week39 Oct02</td></tr><tr><td>2021 Week40 Oct09</td></tr><tr><td>2021 Week41 Oct16</td></tr><tr><td>2021 Week42 Oct23</td></tr><tr><td>2021 Week43 Oct30</td></tr><tr><td>2021 Week44 Nov06</td></tr><tr><td>2021 Week45 Nov13</td></tr><tr><td>2021 Week46 Nov20</td></tr><tr><td>2021 Week47 Nov27</td></tr><tr><td>2021 Week48 Dec04</td></tr><tr><td>2021 Week49 Dec11</td></tr><tr><td>2021 Week50 Dec18</td></tr><tr><td>2021 Week51 Dec25</td></tr><tr><td>2021 Week52 Jan01 2022</td></tr><tr><td>2022 Week01 Jan08</td></tr><tr><td>2022 Week02 Jan15</td></tr><tr><td>2022 Week03 Jan22</td></tr><tr><td>2022 Week04 Jan29</td></tr><tr><td>2022 Week05 Feb05</td></tr><tr><td>2022 Week06 Feb12</td></tr><tr><td>2022 Week07 Feb19</td></tr><tr><td>2022 Week08 Feb26</td></tr><tr><td>2022 Week09 Mar05</td></tr><tr><td>2022 Week10 Mar12</td></tr><tr><td>2022 Week11 Mar19</td></tr><tr><td>2022 Week12 Mar26</td></tr><tr><td>2022 Week13 Apr02</td></tr><tr><td>2022 Week14 Apr09</td></tr><tr><td>2022 Week15 Apr16</td></tr><tr><td>2022 Week16 Apr23</td></tr><tr><td>2022 Week17 Apr30</td></tr><tr><td>2022 Week18 May07</td></tr><tr><td>2022 Week19 May14</td></tr><tr><td>2022 Week20 May21</td></tr><tr><td>2022 Week21 May28</td></tr><tr><td>2022 Week22 Jun04</td></tr><tr><td>2022 Week23 Jun11</td></tr><tr><td>2022 Week24 Jun18</td></tr><tr><td>2022 Week25 Jun25</td></tr><tr><td>2022 Week26 Jul02</td></tr><tr><td>2022 Week27 Jul09</td></tr><tr><td>2022 Week28 Jul16</td></tr><tr><td>2022 Week29 Jul23</td></tr><tr><td>2022 Week30 Jul30</td></tr><tr><td>2022 Week31 Aug06</td></tr><tr><td>2022 Week32 Aug13</td></tr><tr><td>2022 Week33 Aug20</td></tr><tr><td>2022 Week34 Aug27</td></tr><tr><td>2022 Week35 Sep03</td></tr><tr><td>2022 Week36 Sep10</td></tr><tr><td>2022 Week37 Sep17</td></tr><tr><td>2022 Week38 Sep24</td></tr><tr><td>2022 Week39 Oct01</td></tr><tr><td>2022 Week40 Oct08</td></tr><tr><td>2022 Week41 Oct15</td></tr><tr><td>2022 Week42 Oct22</td></tr><tr><td>2022 Week43 Oct29</td></tr><tr><td>2022 Week44 Nov05</td></tr><tr><td>2022 Week45 Nov12</td></tr><tr><td>2022 Week46 Nov19</td></tr><tr><td>2022 Week47 Nov26</td></tr><tr><td>2022 Week48 Dec03</td></tr><tr><td>2022 Week49 Dec10</td></tr><tr><td>2022 Week50 Dec17</td></tr><tr><td>2022 Week51 Dec24</td></tr><tr><td>2022 Week52 Dec31</td></tr><tr><td>2023 Week01 Jan07</td></tr><tr><td>2023 Week02 Jan14</td></tr><tr><td>2023 Week03 Jan21</td></tr><tr><td>2023 Week04 Jan28</td></tr><tr><td>2023 Week05 Feb04</td></tr><tr><td>2023 Week06 Feb11</td></tr><tr><td>2023 Week07 Feb18</td></tr><tr><td>2023 Week08 Feb25</td></tr><tr><td>2023 Week09 Mar04</td></tr><tr><td>2023 Week10 Mar11</td></tr><tr><td>2023 Week11 Mar18</td></tr><tr><td>2023 Week12 Mar25</td></tr><tr><td>2023 Week13 Apr01</td></tr><tr><td>2023 Week14 Apr08</td></tr><tr><td>2023 Week15 Apr15</td></tr><tr><td>2023 Week16 Apr22</td></tr><tr><td>2023 Week17 Apr29</td></tr><tr><td>2023 Week18 May06</td></tr><tr><td>2023 Week19 May13</td></tr><tr><td>2023 Week20 May20</td></tr></tbody></table></div>"
      ]
     },
     "metadata": {
      "application/vnd.databricks.v1+output": {
       "addedWidgets": {},
       "aggData": [],
       "aggError": "",
       "aggOverflow": false,
       "aggSchema": [],
       "aggSeriesLimitReached": false,
       "aggType": "",
       "arguments": {},
       "columnCustomDisplayInfos": {},
       "data": [
        [
         "2020 Week18 May09"
        ],
        [
         "2020 Week19 May16"
        ],
        [
         "2020 Week20 May23"
        ],
        [
         "2020 Week21 May30"
        ],
        [
         "2020 Week22 Jun06"
        ],
        [
         "2020 Week23 Jun13"
        ],
        [
         "2020 Week24 Jun20"
        ],
        [
         "2020 Week25 Jun27"
        ],
        [
         "2020 Week26 Jul04"
        ],
        [
         "2020 Week27 Jul11"
        ],
        [
         "2020 Week28 Jul18"
        ],
        [
         "2020 Week29 Jul25"
        ],
        [
         "2020 Week30 Aug01"
        ],
        [
         "2020 Week31 Aug08"
        ],
        [
         "2020 Week32 Aug15"
        ],
        [
         "2020 Week33 Aug22"
        ],
        [
         "2020 Week34 Aug29"
        ],
        [
         "2020 Week35 Sep05"
        ],
        [
         "2020 Week36 Sep12"
        ],
        [
         "2020 Week37 Sep19"
        ],
        [
         "2020 Week38 Sep26"
        ],
        [
         "2020 Week39 Oct03"
        ],
        [
         "2020 Week40 Oct10"
        ],
        [
         "2020 Week41 Oct17"
        ],
        [
         "2020 Week42 Oct24"
        ],
        [
         "2020 Week43 Oct31"
        ],
        [
         "2020 Week44 Nov07"
        ],
        [
         "2020 Week45 Nov14"
        ],
        [
         "2020 Week46 Nov21"
        ],
        [
         "2020 Week47 Nov28"
        ],
        [
         "2020 Week48 Dec05"
        ],
        [
         "2020 Week49 Dec12"
        ],
        [
         "2020 Week50 Dec19"
        ],
        [
         "2020 Week51 Dec26"
        ],
        [
         "2020 Week52 Jan02 2021"
        ],
        [
         "2021 Week01 Jan09"
        ],
        [
         "2021 Week02 Jan16"
        ],
        [
         "2021 Week03 Jan23"
        ],
        [
         "2021 Week04 Jan30"
        ],
        [
         "2021 Week05 Feb06"
        ],
        [
         "2021 Week06 Feb13"
        ],
        [
         "2021 Week07 Feb20"
        ],
        [
         "2021 Week08 Feb27"
        ],
        [
         "2021 Week09 Mar06"
        ],
        [
         "2021 Week10 Mar13"
        ],
        [
         "2021 Week11 Mar20"
        ],
        [
         "2021 Week12 Mar27"
        ],
        [
         "2021 Week13 Apr03"
        ],
        [
         "2021 Week14 Apr10"
        ],
        [
         "2021 Week15 Apr17"
        ],
        [
         "2021 Week16 Apr24"
        ],
        [
         "2021 Week17 May01"
        ],
        [
         "2021 Week18 May08"
        ],
        [
         "2021 Week19 May15"
        ],
        [
         "2021 Week20 May22"
        ],
        [
         "2021 Week21 May29"
        ],
        [
         "2021 Week22 Jun05"
        ],
        [
         "2021 Week23 Jun12"
        ],
        [
         "2021 Week24 Jun19"
        ],
        [
         "2021 Week25 Jun26"
        ],
        [
         "2021 Week26 Jul03"
        ],
        [
         "2021 Week27 Jul10"
        ],
        [
         "2021 Week28 Jul17"
        ],
        [
         "2021 Week29 Jul24"
        ],
        [
         "2021 Week30 Jul31"
        ],
        [
         "2021 Week31 Aug07"
        ],
        [
         "2021 Week32 Aug14"
        ],
        [
         "2021 Week33 Aug21"
        ],
        [
         "2021 Week34 Aug28"
        ],
        [
         "2021 Week35 Sep04"
        ],
        [
         "2021 Week36 Sep11"
        ],
        [
         "2021 Week37 Sep18"
        ],
        [
         "2021 Week38 Sep25"
        ],
        [
         "2021 Week39 Oct02"
        ],
        [
         "2021 Week40 Oct09"
        ],
        [
         "2021 Week41 Oct16"
        ],
        [
         "2021 Week42 Oct23"
        ],
        [
         "2021 Week43 Oct30"
        ],
        [
         "2021 Week44 Nov06"
        ],
        [
         "2021 Week45 Nov13"
        ],
        [
         "2021 Week46 Nov20"
        ],
        [
         "2021 Week47 Nov27"
        ],
        [
         "2021 Week48 Dec04"
        ],
        [
         "2021 Week49 Dec11"
        ],
        [
         "2021 Week50 Dec18"
        ],
        [
         "2021 Week51 Dec25"
        ],
        [
         "2021 Week52 Jan01 2022"
        ],
        [
         "2022 Week01 Jan08"
        ],
        [
         "2022 Week02 Jan15"
        ],
        [
         "2022 Week03 Jan22"
        ],
        [
         "2022 Week04 Jan29"
        ],
        [
         "2022 Week05 Feb05"
        ],
        [
         "2022 Week06 Feb12"
        ],
        [
         "2022 Week07 Feb19"
        ],
        [
         "2022 Week08 Feb26"
        ],
        [
         "2022 Week09 Mar05"
        ],
        [
         "2022 Week10 Mar12"
        ],
        [
         "2022 Week11 Mar19"
        ],
        [
         "2022 Week12 Mar26"
        ],
        [
         "2022 Week13 Apr02"
        ],
        [
         "2022 Week14 Apr09"
        ],
        [
         "2022 Week15 Apr16"
        ],
        [
         "2022 Week16 Apr23"
        ],
        [
         "2022 Week17 Apr30"
        ],
        [
         "2022 Week18 May07"
        ],
        [
         "2022 Week19 May14"
        ],
        [
         "2022 Week20 May21"
        ],
        [
         "2022 Week21 May28"
        ],
        [
         "2022 Week22 Jun04"
        ],
        [
         "2022 Week23 Jun11"
        ],
        [
         "2022 Week24 Jun18"
        ],
        [
         "2022 Week25 Jun25"
        ],
        [
         "2022 Week26 Jul02"
        ],
        [
         "2022 Week27 Jul09"
        ],
        [
         "2022 Week28 Jul16"
        ],
        [
         "2022 Week29 Jul23"
        ],
        [
         "2022 Week30 Jul30"
        ],
        [
         "2022 Week31 Aug06"
        ],
        [
         "2022 Week32 Aug13"
        ],
        [
         "2022 Week33 Aug20"
        ],
        [
         "2022 Week34 Aug27"
        ],
        [
         "2022 Week35 Sep03"
        ],
        [
         "2022 Week36 Sep10"
        ],
        [
         "2022 Week37 Sep17"
        ],
        [
         "2022 Week38 Sep24"
        ],
        [
         "2022 Week39 Oct01"
        ],
        [
         "2022 Week40 Oct08"
        ],
        [
         "2022 Week41 Oct15"
        ],
        [
         "2022 Week42 Oct22"
        ],
        [
         "2022 Week43 Oct29"
        ],
        [
         "2022 Week44 Nov05"
        ],
        [
         "2022 Week45 Nov12"
        ],
        [
         "2022 Week46 Nov19"
        ],
        [
         "2022 Week47 Nov26"
        ],
        [
         "2022 Week48 Dec03"
        ],
        [
         "2022 Week49 Dec10"
        ],
        [
         "2022 Week50 Dec17"
        ],
        [
         "2022 Week51 Dec24"
        ],
        [
         "2022 Week52 Dec31"
        ],
        [
         "2023 Week01 Jan07"
        ],
        [
         "2023 Week02 Jan14"
        ],
        [
         "2023 Week03 Jan21"
        ],
        [
         "2023 Week04 Jan28"
        ],
        [
         "2023 Week05 Feb04"
        ],
        [
         "2023 Week06 Feb11"
        ],
        [
         "2023 Week07 Feb18"
        ],
        [
         "2023 Week08 Feb25"
        ],
        [
         "2023 Week09 Mar04"
        ],
        [
         "2023 Week10 Mar11"
        ],
        [
         "2023 Week11 Mar18"
        ],
        [
         "2023 Week12 Mar25"
        ],
        [
         "2023 Week13 Apr01"
        ],
        [
         "2023 Week14 Apr08"
        ],
        [
         "2023 Week15 Apr15"
        ],
        [
         "2023 Week16 Apr22"
        ],
        [
         "2023 Week17 Apr29"
        ],
        [
         "2023 Week18 May06"
        ],
        [
         "2023 Week19 May13"
        ],
        [
         "2023 Week20 May20"
        ]
       ],
       "datasetInfos": [],
       "dbfsResultPath": null,
       "isJsonSchema": true,
       "metadata": {},
       "overflow": false,
       "plotOptions": {
        "customPlotOptions": {},
        "displayType": "table",
        "pivotAggregation": null,
        "pivotColumns": null,
        "xColumns": null,
        "yColumns": null
       },
       "removedWidgets": [],
       "schema": [
        {
         "metadata": "{}",
         "name": "week",
         "type": "\"string\""
        }
       ],
       "type": "table"
      }
     },
     "output_type": "display_data"
    }
   ],
   "source": [
    "# moh_hosp_weekly_icu_df.select(\"week\").show()\n",
    "\n",
    "a = moh_hosp_weekly_icu_df.select(\"week\")\n",
    "# display(a)\n",
    "\n",
    "from pyspark.sql.functions import when, regexp_replace, col, concat, to_date\n",
    "# from pyspark.sql.functions import functions as f\n",
    "import pyspark.sql.functions as f\n",
    "\n",
    "b = a.withColumn('week', when(a.week.contains(\"Week\"),regexp_replace(a.week,'Week','')))\n",
    "b = b.withColumn('week', when(b.week.contains(\" \"),regexp_replace(b.week,' ','-')))\n",
    "split_col = f.split(b['week'], '-')\n",
    "\n",
    "b = b.withColumn('year', split_col.getItem(0))\\\n",
    "     .withColumn('week_num', split_col.getItem(1))\\\n",
    "     .withColumn('Month_date', split_col.getItem(2))\\\n",
    "     .withColumn('Year_latest', split_col.getItem(3))\n",
    "\n",
    "b = b.withColumn('Month', concat(b.Month_date.substr(0, 3)))\\\n",
    "     .withColumn('Date', concat(b.Month_date.substr(4, 5)))\n",
    "b = b.select('Date','Month','year',when(b.Year_latest.isNull(), b.year).otherwise(b.Year_latest).alias('Year_latest'))\n",
    "# display(b)\n",
    "\n",
    "b = b.withColumn('Date', f.concat(f.col('Date'), f.lit(\" \"), f.col('Month'), f.lit(\" \"), f.col('Year_latest')))\n",
    "b = b.drop(\"year\",\"week\",\"week_num\",\"Month_date\",\"Month\",\"Year_latest\")\n",
    "\n",
    "b = b.select(col(\"Date\"), to_date(col(\"Date\"), \"dd MMM yyyy\").alias(\"Transformed_Date\")).drop(\"Date\")\n",
    "display(b)  ######transformed date\n",
    "\n",
    "display(a)   ##original date\n"
   ]
  },
  {
   "cell_type": "code",
   "execution_count": 0,
   "metadata": {
    "application/vnd.databricks.v1+cell": {
     "cellMetadata": {
      "byteLimit": 2048000,
      "rowLimit": 10000
     },
     "inputWidgets": {},
     "nuid": "bcec098e-a2db-411c-9093-b87d9b3fddb0",
     "showTitle": false,
     "title": ""
    }
   },
   "outputs": [],
   "source": [
    "moh_hosp_weekly_icu_df "
   ]
  },
  {
   "cell_type": "code",
   "execution_count": 0,
   "metadata": {
    "application/vnd.databricks.v1+cell": {
     "cellMetadata": {
      "byteLimit": 2048000,
      "rowLimit": 10000
     },
     "inputWidgets": {},
     "nuid": "df65eb4e-3464-407e-8c98-470bfdf6f94b",
     "showTitle": false,
     "title": ""
    }
   },
   "outputs": [],
   "source": []
  },
  {
   "cell_type": "code",
   "execution_count": 0,
   "metadata": {
    "application/vnd.databricks.v1+cell": {
     "cellMetadata": {
      "byteLimit": 2048000,
      "rowLimit": 10000
     },
     "inputWidgets": {},
     "nuid": "6495cf66-62e2-40ff-bc0a-84b5e0d3c147",
     "showTitle": false,
     "title": ""
    }
   },
   "outputs": [],
   "source": []
  }
 ],
 "metadata": {
  "application/vnd.databricks.v1+notebook": {
   "dashboards": [],
   "language": "python",
   "notebookMetadata": {
    "pythonIndentUnit": 4
   },
   "notebookName": "HospICUWeekly (1)",
   "widgets": {}
  }
 },
 "nbformat": 4,
 "nbformat_minor": 0
}

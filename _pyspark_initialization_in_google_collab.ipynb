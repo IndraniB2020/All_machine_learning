{
  "nbformat": 4,
  "nbformat_minor": 0,
  "metadata": {
    "colab": {
      "provenance": [],
      "authorship_tag": "ABX9TyNNxjzMqwwq3ews15YV1kZY",
      "include_colab_link": true
    },
    "kernelspec": {
      "name": "python3",
      "display_name": "Python 3"
    },
    "language_info": {
      "name": "python"
    }
  },
  "cells": [
    {
      "cell_type": "markdown",
      "metadata": {
        "id": "view-in-github",
        "colab_type": "text"
      },
      "source": [
        "<a href=\"https://colab.research.google.com/github/IndraniB2020/IBRep2020/blob/master/pyspark_initialization_in_google_collab.ipynb\" target=\"_parent\"><img src=\"https://colab.research.google.com/assets/colab-badge.svg\" alt=\"Open In Colab\"/></a>"
      ]
    },
    {
      "cell_type": "code",
      "execution_count": null,
      "metadata": {
        "id": "UukwYY5PZzdy"
      },
      "outputs": [],
      "source": [
        "##must have open jdk 8\n",
        "## compatibility issues with java 11\n",
        "\n",
        "!pwd\n",
        "!ls\n",
        "!ls /usr/lib/jvm/"
      ]
    },
    {
      "cell_type": "code",
      "source": [
        "!apt-get update\n",
        "!apt-get install openjdk-8-jdk-headless -qq > /dev/null"
      ],
      "metadata": {
        "id": "7LEgUqk-CXkC"
      },
      "execution_count": null,
      "outputs": []
    },
    {
      "cell_type": "code",
      "source": [
        "###replacing java 11 with java 8\n",
        "!ls /usr/lib/jvm/"
      ],
      "metadata": {
        "id": "-1OTvuyZDSkf"
      },
      "execution_count": null,
      "outputs": []
    },
    {
      "cell_type": "code",
      "source": [
        "#spark-3.4.0-bin-hadoop3.tgz\n",
        "!wget -q https://downloads.apache.org/spark/spark-3.4.0/spark-3.4.0-bin-hadoop3.tgz"
      ],
      "metadata": {
        "id": "JZ8MID0HDzdb"
      },
      "execution_count": null,
      "outputs": []
    },
    {
      "cell_type": "code",
      "source": [
        "!tar -xvzf spark-3.4.0-bin-hadoop3.tgz    ##unzip"
      ],
      "metadata": {
        "id": "t5ZkVQruElSU"
      },
      "execution_count": null,
      "outputs": []
    },
    {
      "cell_type": "code",
      "source": [
        "!pip install -q findspark"
      ],
      "metadata": {
        "id": "ytP9SAc0E0av"
      },
      "execution_count": null,
      "outputs": []
    },
    {
      "cell_type": "code",
      "source": [
        "!pip install pyspark"
      ],
      "metadata": {
        "id": "t1JHoHABFCob"
      },
      "execution_count": null,
      "outputs": []
    },
    {
      "cell_type": "code",
      "source": [
        "from pyspark.sql import SparkSession\n",
        "spark = SparkSession.builder \\\n",
        "        .master(\"local\")\\\n",
        "        .appName(\"test\")\\\n",
        "        .getOrCreate()"
      ],
      "metadata": {
        "id": "NEQ6wHLHF1Vd"
      },
      "execution_count": null,
      "outputs": []
    },
    {
      "cell_type": "code",
      "source": [
        "spark.sparkContext"
      ],
      "metadata": {
        "id": "b3wr-WuWHK1i"
      },
      "execution_count": null,
      "outputs": []
    },
    {
      "cell_type": "code",
      "source": [
        "##loading dummy data\n",
        "spark_data = spark.read.format(\"csv\").options(header='true', InferSchema='true').load(\"/content/sample_data/california_housing_test.csv\")  ###data loaded in default everytime"
      ],
      "metadata": {
        "id": "4f0iidikHbN1"
      },
      "execution_count": null,
      "outputs": []
    },
    {
      "cell_type": "code",
      "source": [
        "spark_data.show(1, truncate=False)"
      ],
      "metadata": {
        "id": "087NNmqjHtpk"
      },
      "execution_count": null,
      "outputs": []
    },
    {
      "cell_type": "code",
      "source": [
        "spark_data.printSchema()\n",
        "spark_data.count()"
      ],
      "metadata": {
        "id": "_EdnA9cjH-1R"
      },
      "execution_count": null,
      "outputs": []
    },
    {
      "cell_type": "code",
      "source": [
        "from google.colab import drive\n",
        "drive.mount('/content/drive')    ##mounting personal googledrive"
      ],
      "metadata": {
        "collapsed": true,
        "id": "WvfYQ_0sIobm"
      },
      "execution_count": null,
      "outputs": []
    },
    {
      "cell_type": "code",
      "source": [],
      "metadata": {
        "id": "i3xr1MhoJQkZ"
      },
      "execution_count": null,
      "outputs": []
    }
  ]
}